{
 "cells": [
  {
   "cell_type": "markdown",
   "metadata": {},
   "source": [
    "## Define the Convolutional Neural Network\n",
    "\n",
    "After you've looked at the data you're working with and, in this case, know the shapes of the images and of the keypoints, you are ready to define a convolutional neural network that can *learn* from this data.\n",
    "\n",
    "In this notebook and in `models.py`, you will:\n",
    "1. Define a CNN with images as input and keypoints as output\n",
    "2. Construct the transformed FaceKeypointsDataset, just as before\n",
    "3. Train the CNN on the training data, tracking loss\n",
    "4. See how the trained model performs on test data\n",
    "5. If necessary, modify the CNN structure and model hyperparameters, so that it performs *well* **\\***\n",
    "\n",
    "**\\*** What does *well* mean?\n",
    "\n",
    "\"Well\" means that the model's loss decreases during training **and**, when applied to test image data, the model produces keypoints that closely match the true keypoints of each face. And you'll see examples of this later in the notebook.\n",
    "\n",
    "---\n"
   ]
  },
  {
   "cell_type": "markdown",
   "metadata": {},
   "source": [
    "## CNN Architecture\n",
    "\n",
    "Recall that CNN's are defined by a few types of layers:\n",
    "* Convolutional layers\n",
    "* Maxpooling layers\n",
    "* Fully-connected layers\n",
    "\n",
    "You are required to use the above layers and encouraged to add multiple convolutional layers and things like dropout layers that may prevent overfitting. You are also encouraged to look at literature on keypoint detection, such as [this paper](https://arxiv.org/pdf/1710.00977.pdf), to help you determine the structure of your network.\n",
    "\n",
    "\n",
    "### TODO: Define your model in the provided file `models.py` file\n",
    "\n",
    "This file is mostly empty but contains the expected name and some TODO's for creating your model.\n",
    "\n",
    "---"
   ]
  },
  {
   "cell_type": "markdown",
   "metadata": {},
   "source": [
    "## PyTorch Neural Nets\n",
    "\n",
    "To define a neural network in PyTorch, you define the layers of a model in the function `__init__` and define the feedforward behavior of a network that employs those initialized layers in the function `forward`, which takes in an input image tensor, `x`. The structure of this Net class is shown below and left for you to fill in.\n",
    "\n",
    "Note: During training, PyTorch will be able to perform backpropagation by keeping track of the network's feedforward behavior and using autograd to calculate the update to the weights in the network.\n",
    "\n",
    "#### Define the Layers in ` __init__`\n",
    "As a reminder, a conv/pool layer may be defined like this (in `__init__`):\n",
    "```\n",
    "# 1 input image channel (for grayscale images), 32 output channels/feature maps, 3x3 square convolution kernel\n",
    "self.conv1 = nn.Conv2d(1, 32, 3)\n",
    "\n",
    "# maxpool that uses a square window of kernel_size=2, stride=2\n",
    "self.pool = nn.MaxPool2d(2, 2)      \n",
    "```\n",
    "\n",
    "#### Refer to Layers in `forward`\n",
    "Then referred to in the `forward` function like this, in which the conv1 layer has a ReLu activation applied to it before maxpooling is applied:\n",
    "```\n",
    "x = self.pool(F.relu(self.conv1(x)))\n",
    "```\n",
    "\n",
    "Best practice is to place any layers whose weights will change during the training process in `__init__` and refer to them in the `forward` function; any layers or functions that always behave in the same way, such as a pre-defined activation function, should appear *only* in the `forward` function."
   ]
  },
  {
   "cell_type": "markdown",
   "metadata": {},
   "source": [
    "#### Why models.py\n",
    "\n",
    "You are tasked with defining the network in the `models.py` file so that any models you define can be saved and loaded by name in different notebooks in this project directory. For example, by defining a CNN class called `Net` in `models.py`, you can then create that same architecture in this and other notebooks by simply importing the class and instantiating a model:\n",
    "```\n",
    "    from models import Net\n",
    "    net = Net()\n",
    "```"
   ]
  },
  {
   "cell_type": "code",
   "execution_count": null,
   "metadata": {},
   "outputs": [],
   "source": [
    "# load the data if you need to; if you have already loaded the data, you may comment this cell out\n",
    "# -- DO NOT CHANGE THIS CELL -- #\n",
    "!mkdir /data\n",
    "!wget -P /data/ https://s3.amazonaws.com/video.udacity-data.com/topher/2018/May/5aea1b91_train-test-data/train-test-data.zip\n",
    "!unzip -n /data/train-test-data.zip -d /data"
   ]
  },
  {
   "cell_type": "markdown",
   "metadata": {},
   "source": [
    "<div class=\"alert alert-info\">**Note:** Workspaces automatically close connections after 30 minutes of inactivity (including inactivity while training!). Use the code snippet below to keep your workspace alive during training. (The active_session context manager is imported below.)\n",
    "</div>\n",
    "```\n",
    "from workspace_utils import active_session\n",
    "\n",
    "with active_session():\n",
    "    train_model(num_epochs)\n",
    "```\n"
   ]
  },
  {
   "cell_type": "code",
   "execution_count": 1,
   "metadata": {},
   "outputs": [],
   "source": [
    "# import the usual resources\n",
    "import matplotlib.pyplot as plt\n",
    "import numpy as np\n",
    "\n",
    "# import utilities to keep workspaces alive during model training\n",
    "from workspace_utils import active_session\n",
    "\n",
    "# watch for any changes in model.py, if it changes, re-load it automatically\n",
    "%load_ext autoreload\n",
    "%autoreload 2"
   ]
  },
  {
   "cell_type": "code",
   "execution_count": 2,
   "metadata": {},
   "outputs": [
    {
     "name": "stdout",
     "output_type": "stream",
     "text": [
      "Net(\n",
      "  (conv1): Conv2d(1, 32, kernel_size=(5, 5), stride=(1, 1))\n",
      "  (conv2): Conv2d(32, 64, kernel_size=(5, 5), stride=(1, 1))\n",
      "  (conv3): Conv2d(64, 128, kernel_size=(5, 5), stride=(1, 1))\n",
      "  (pool): MaxPool2d(kernel_size=2, stride=2, padding=0, dilation=1, ceil_mode=False)\n",
      "  (dropout): Dropout(p=0.4)\n",
      "  (fc1): Linear(in_features=73728, out_features=1024, bias=True)\n",
      "  (fc2): Linear(in_features=1024, out_features=136, bias=True)\n",
      ")\n"
     ]
    }
   ],
   "source": [
    "## TODO: Define the Net in models.py\n",
    "\n",
    "import torch\n",
    "import torch.nn as nn\n",
    "import torch.nn.functional as F\n",
    "\n",
    "## TODO: Once you've define the network, you can instantiate it\n",
    "# one example conv layer has been provided for you\n",
    "from models import Net\n",
    "\n",
    "net = Net()\n",
    "print(net)"
   ]
  },
  {
   "cell_type": "markdown",
   "metadata": {
    "collapsed": true
   },
   "source": [
    "## Transform the dataset \n",
    "\n",
    "To prepare for training, create a transformed dataset of images and keypoints.\n",
    "\n",
    "### TODO: Define a data transform\n",
    "\n",
    "In PyTorch, a convolutional neural network expects a torch image of a consistent size as input. For efficient training, and so your model's loss does not blow up during training, it is also suggested that you normalize the input images and keypoints. The necessary transforms have been defined in `data_load.py` and you **do not** need to modify these; take a look at this file (you'll see the same transforms that were defined and applied in Notebook 1).\n",
    "\n",
    "To define the data transform below, use a [composition](http://pytorch.org/tutorials/beginner/data_loading_tutorial.html#compose-transforms) of:\n",
    "1. Rescaling and/or cropping the data, such that you are left with a square image (the suggested size is 224x224px)\n",
    "2. Normalizing the images and keypoints; turning each RGB image into a grayscale image with a color range of [0, 1] and transforming the given keypoints into a range of [-1, 1]\n",
    "3. Turning these images and keypoints into Tensors\n",
    "\n",
    "These transformations have been defined in `data_load.py`, but it's up to you to call them and create a `data_transform` below. **This transform will be applied to the training data and, later, the test data**. It will change how you go about displaying these images and keypoints, but these steps are essential for efficient training.\n",
    "\n",
    "As a note, should you want to perform data augmentation (which is optional in this project), and randomly rotate or shift these images, a square image size will be useful; rotating a 224x224 image by 90 degrees will result in the same shape of output."
   ]
  },
  {
   "cell_type": "code",
   "execution_count": 3,
   "metadata": {},
   "outputs": [],
   "source": [
    "from torch.utils.data import Dataset, DataLoader\n",
    "from torchvision import transforms, utils\n",
    "\n",
    "# the dataset we created in Notebook 1 is copied in the helper file `data_load.py`\n",
    "from data_load import FacialKeypointsDataset\n",
    "# the transforms we defined in Notebook 1 are in the helper file `data_load.py`\n",
    "from data_load import Rescale, RandomCrop, Normalize, ToTensor\n",
    "\n",
    "\n",
    "## TODO: define the data_transform using transforms.Compose([all tx's, . , .])\n",
    "# order matters! i.e. rescaling should come before a smaller crop\n",
    "data_transform = transforms.Compose([Rescale(250),\n",
    "                                     RandomCrop(224),\n",
    "                                     Normalize(),\n",
    "                                     ToTensor()])\n",
    "\n",
    "# testing that you've defined a transform\n",
    "assert(data_transform is not None), 'Define a data_transform'"
   ]
  },
  {
   "cell_type": "code",
   "execution_count": 4,
   "metadata": {},
   "outputs": [
    {
     "name": "stdout",
     "output_type": "stream",
     "text": [
      "Number of images:  3462\n",
      "0 torch.Size([1, 224, 224]) torch.Size([68, 2])\n",
      "1 torch.Size([1, 224, 224]) torch.Size([68, 2])\n",
      "2 torch.Size([1, 224, 224]) torch.Size([68, 2])\n",
      "3 torch.Size([1, 224, 224]) torch.Size([68, 2])\n"
     ]
    },
    {
     "name": "stderr",
     "output_type": "stream",
     "text": [
      "/home/workspace/data_load.py:39: FutureWarning: Method .as_matrix will be removed in a future version. Use .values instead.\n",
      "  key_pts = self.key_pts_frame.iloc[idx, 1:].as_matrix()\n"
     ]
    }
   ],
   "source": [
    "# create the transformed dataset\n",
    "transformed_dataset = FacialKeypointsDataset(csv_file='/data/training_frames_keypoints.csv',\n",
    "                                             root_dir='/data/training/',\n",
    "                                             transform=data_transform)\n",
    "\n",
    "\n",
    "print('Number of images: ', len(transformed_dataset))\n",
    "\n",
    "# iterate through the transformed dataset and print some stats about the first few samples\n",
    "for i in range(4):\n",
    "    sample = transformed_dataset[i]\n",
    "    print(i, sample['image'].size(), sample['keypoints'].size())"
   ]
  },
  {
   "cell_type": "markdown",
   "metadata": {},
   "source": [
    "## Batching and loading data\n",
    "\n",
    "Next, having defined the transformed dataset, we can use PyTorch's DataLoader class to load the training data in batches of whatever size as well as to shuffle the data for training the model. You can read more about the parameters of the DataLoader, in [this documentation](http://pytorch.org/docs/master/data.html).\n",
    "\n",
    "#### Batch size\n",
    "Decide on a good batch size for training your model. Try both small and large batch sizes and note how the loss decreases as the model trains. Too large a batch size may cause your model to crash and/or run out of memory while training.\n",
    "\n",
    "**Note for Windows users**: Please change the `num_workers` to 0 or you may face some issues with your DataLoader failing."
   ]
  },
  {
   "cell_type": "code",
   "execution_count": 5,
   "metadata": {},
   "outputs": [],
   "source": [
    "# load training data in batches\n",
    "batch_size = 10\n",
    "\n",
    "train_loader = DataLoader(transformed_dataset, \n",
    "                          batch_size=batch_size,\n",
    "                          shuffle=True, \n",
    "                          num_workers=4)\n"
   ]
  },
  {
   "cell_type": "markdown",
   "metadata": {},
   "source": [
    "## Before training\n",
    "\n",
    "Take a look at how this model performs before it trains. You should see that the keypoints it predicts start off in one spot and don't match the keypoints on a face at all! It's interesting to visualize this behavior so that you can compare it to the model after training and see how the model has improved.\n",
    "\n",
    "#### Load in the test dataset\n",
    "\n",
    "The test dataset is one that this model has *not* seen before, meaning it has not trained with these images. We'll load in this test data and before and after training, see how your model performs on this set!\n",
    "\n",
    "To visualize this test data, we have to go through some un-transformation steps to turn our images into python images from tensors and to turn our keypoints back into a recognizable range. "
   ]
  },
  {
   "cell_type": "code",
   "execution_count": 6,
   "metadata": {},
   "outputs": [],
   "source": [
    "# load in the test data, using the dataset class\n",
    "# AND apply the data_transform you defined above\n",
    "\n",
    "# create the test dataset\n",
    "test_dataset = FacialKeypointsDataset(csv_file='/data/test_frames_keypoints.csv',\n",
    "                                             root_dir='/data/test/',\n",
    "                                             transform=data_transform)\n",
    "\n"
   ]
  },
  {
   "cell_type": "code",
   "execution_count": 7,
   "metadata": {},
   "outputs": [],
   "source": [
    "# load test data in batches\n",
    "batch_size = 10\n",
    "\n",
    "test_loader = DataLoader(test_dataset, \n",
    "                          batch_size=batch_size,\n",
    "                          shuffle=True, \n",
    "                          num_workers=4)"
   ]
  },
  {
   "cell_type": "markdown",
   "metadata": {},
   "source": [
    "## Apply the model on a test sample\n",
    "\n",
    "To test the model on a test sample of data, you have to follow these steps:\n",
    "1. Extract the image and ground truth keypoints from a sample\n",
    "2. Wrap the image in a Variable, so that the net can process it as input and track how it changes as the image moves through the network.\n",
    "3. Make sure the image is a FloatTensor, which the model expects.\n",
    "4. Forward pass the image through the net to get the predicted, output keypoints.\n",
    "\n",
    "This function test how the network performs on the first batch of test data. It returns the images, the transformed images, the predicted keypoints (produced by the model), and the ground truth keypoints."
   ]
  },
  {
   "cell_type": "code",
   "execution_count": 8,
   "metadata": {},
   "outputs": [],
   "source": [
    "# test the model on a batch of test images\n",
    "\n",
    "def net_sample_output():\n",
    "    \n",
    "    # iterate through the test dataset\n",
    "    for i, sample in enumerate(test_loader):\n",
    "        \n",
    "        # get sample data: images and ground truth keypoints\n",
    "        images = sample['image']\n",
    "        key_pts = sample['keypoints']\n",
    "\n",
    "        # convert images to FloatTensors\n",
    "        images = images.type(torch.FloatTensor)\n",
    "\n",
    "        # forward pass to get net output\n",
    "        output_pts = net(images)\n",
    "        \n",
    "        # reshape to batch_size x 68 x 2 pts\n",
    "        output_pts = output_pts.view(output_pts.size()[0], 68, -1)\n",
    "        \n",
    "        # break after first image is tested\n",
    "        if i == 0:\n",
    "            return images, output_pts, key_pts\n",
    "            "
   ]
  },
  {
   "cell_type": "markdown",
   "metadata": {},
   "source": [
    "#### Debugging tips\n",
    "\n",
    "If you get a size or dimension error here, make sure that your network outputs the expected number of keypoints! Or if you get a Tensor type error, look into changing the above code that casts the data into float types: `images = images.type(torch.FloatTensor)`."
   ]
  },
  {
   "cell_type": "code",
   "execution_count": 9,
   "metadata": {},
   "outputs": [
    {
     "name": "stderr",
     "output_type": "stream",
     "text": [
      "/home/workspace/data_load.py:39: FutureWarning: Method .as_matrix will be removed in a future version. Use .values instead.\n",
      "  key_pts = self.key_pts_frame.iloc[idx, 1:].as_matrix()\n",
      "/home/workspace/data_load.py:39: FutureWarning: Method .as_matrix will be removed in a future version. Use .values instead.\n",
      "  key_pts = self.key_pts_frame.iloc[idx, 1:].as_matrix()\n",
      "/home/workspace/data_load.py:39: FutureWarning: Method .as_matrix will be removed in a future version. Use .values instead.\n",
      "  key_pts = self.key_pts_frame.iloc[idx, 1:].as_matrix()\n",
      "/home/workspace/data_load.py:39: FutureWarning: Method .as_matrix will be removed in a future version. Use .values instead.\n",
      "  key_pts = self.key_pts_frame.iloc[idx, 1:].as_matrix()\n"
     ]
    },
    {
     "name": "stdout",
     "output_type": "stream",
     "text": [
      "torch.Size([10, 1, 224, 224])\n",
      "torch.Size([10, 68, 2])\n",
      "torch.Size([10, 68, 2])\n"
     ]
    }
   ],
   "source": [
    "# call the above function\n",
    "# returns: test images, test predicted keypoints, test ground truth keypoints\n",
    "test_images, test_outputs, gt_pts = net_sample_output()\n",
    "\n",
    "# print out the dimensions of the data to see if they make sense\n",
    "print(test_images.data.size())\n",
    "print(test_outputs.data.size())\n",
    "print(gt_pts.size())"
   ]
  },
  {
   "cell_type": "markdown",
   "metadata": {},
   "source": [
    "## Visualize the predicted keypoints\n",
    "\n",
    "Once we've had the model produce some predicted output keypoints, we can visualize these points in a way that's similar to how we've displayed this data before, only this time, we have to \"un-transform\" the image/keypoint data to display it.\n",
    "\n",
    "Note that I've defined a *new* function, `show_all_keypoints` that displays a grayscale image, its predicted keypoints and its ground truth keypoints (if provided)."
   ]
  },
  {
   "cell_type": "code",
   "execution_count": 10,
   "metadata": {},
   "outputs": [],
   "source": [
    "def show_all_keypoints(image, predicted_key_pts, gt_pts=None):\n",
    "    \"\"\"Show image with predicted keypoints\"\"\"\n",
    "    # image is grayscale\n",
    "    plt.imshow(image, cmap='gray')\n",
    "    plt.scatter(predicted_key_pts[:, 0], predicted_key_pts[:, 1], s=20, marker='.', c='m')\n",
    "    # plot ground truth points as green pts\n",
    "    if gt_pts is not None:\n",
    "        plt.scatter(gt_pts[:, 0], gt_pts[:, 1], s=20, marker='.', c='g')\n"
   ]
  },
  {
   "cell_type": "markdown",
   "metadata": {},
   "source": [
    "#### Un-transformation\n",
    "\n",
    "Next, you'll see a helper function. `visualize_output` that takes in a batch of images, predicted keypoints, and ground truth keypoints and displays a set of those images and their true/predicted keypoints.\n",
    "\n",
    "This function's main role is to take batches of image and keypoint data (the input and output of your CNN), and transform them into numpy images and un-normalized keypoints (x, y) for normal display. The un-transformation process turns keypoints and images into numpy arrays from Tensors *and* it undoes the keypoint normalization done in the Normalize() transform; it's assumed that you applied these transformations when you loaded your test data."
   ]
  },
  {
   "cell_type": "code",
   "execution_count": 11,
   "metadata": {},
   "outputs": [
    {
     "data": {
      "image/png": "[encoded data removed]",
      "text/plain": [
       "<matplotlib.figure.Figure at 0x7f34f41c0f60>"
      ]
     },
     "metadata": {
      "needs_background": "light"
     },
     "output_type": "display_data"
    },
    {
     "data": {
      "image/png": "[encoded data removed]",
      "text/plain": [
       "<matplotlib.figure.Figure at 0x7f34f4128f28>"
      ]
     },
     "metadata": {
      "needs_background": "light"
     },
     "output_type": "display_data"
    },
    {
     "data": {
      "image/png": "[encoded data removed]",
      "text/plain": [
       "<matplotlib.figure.Figure at 0x7f34f4100f60>"
      ]
     },
     "metadata": {
      "needs_background": "light"
     },
     "output_type": "display_data"
    },
    {
     "data": {
      "image/png": "[encoded data removed]",
      "text/plain": [
       "<matplotlib.figure.Figure at 0x7f34f4051470>"
      ]
     },
     "metadata": {
      "needs_background": "light"
     },
     "output_type": "display_data"
    },
    {
     "data": {
      "image/png": "[encoded data removed]",
      "text/plain": [
       "<matplotlib.figure.Figure at 0x7f34f4014898>"
      ]
     },
     "metadata": {
      "needs_background": "light"
     },
     "output_type": "display_data"
    },
    {
     "data": {
      "image/png": "[encoded data removed]",
      "text/plain": [
       "<matplotlib.figure.Figure at 0x7f34f3fcf2b0>"
      ]
     },
     "metadata": {
      "needs_background": "light"
     },
     "output_type": "display_data"
    },
    {
     "data": {
      "image/png": "[encoded data removed]",
      "text/plain": [
       "<matplotlib.figure.Figure at 0x7f34f3f88fd0>"
      ]
     },
     "metadata": {
      "needs_background": "light"
     },
     "output_type": "display_data"
    },
    {
     "data": {
      "image/png": "[encoded data removed]",
      "text/plain": [
       "<matplotlib.figure.Figure at 0x7f34f3f55a20>"
      ]
     },
     "metadata": {
      "needs_background": "light"
     },
     "output_type": "display_data"
    },
    {
     "data": {
      "image/png": "[encoded data removed]",
      "text/plain": [
       "<matplotlib.figure.Figure at 0x7f34f3f9dc50>"
      ]
     },
     "metadata": {
      "needs_background": "light"
     },
     "output_type": "display_data"
    },
    {
     "data": {
      "image/png": "[encoded data removed]",
      "text/plain": [
       "<matplotlib.figure.Figure at 0x7f34f3ed4160>"
      ]
     },
     "metadata": {
      "needs_background": "light"
     },
     "output_type": "display_data"
    }
   ],
   "source": [
    "# visualize the output\n",
    "# by default this shows a batch of 10 images\n",
    "def visualize_output(test_images, test_outputs, gt_pts=None, batch_size=10):\n",
    "\n",
    "    for i in range(batch_size):\n",
    "        plt.figure(figsize=(20,10))\n",
    "        ax = plt.subplot(1, batch_size, i+1)\n",
    "\n",
    "        # un-transform the image data\n",
    "        image = test_images[i].data   # get the image from it's Variable wrapper\n",
    "        image = image.numpy()   # convert to numpy array from a Tensor\n",
    "        image = np.transpose(image, (1, 2, 0))   # transpose to go from torch to numpy image\n",
    "\n",
    "        # un-transform the predicted key_pts data\n",
    "        predicted_key_pts = test_outputs[i].data\n",
    "        predicted_key_pts = predicted_key_pts.numpy()\n",
    "        # undo normalization of keypoints  \n",
    "        predicted_key_pts = predicted_key_pts*50.0+100\n",
    "        \n",
    "        # plot ground truth points for comparison, if they exist\n",
    "        ground_truth_pts = None\n",
    "        if gt_pts is not None:\n",
    "            ground_truth_pts = gt_pts[i]         \n",
    "            ground_truth_pts = ground_truth_pts*50.0+100\n",
    "        \n",
    "        # call show_all_keypoints\n",
    "        show_all_keypoints(np.squeeze(image), predicted_key_pts, ground_truth_pts)\n",
    "            \n",
    "        plt.axis('off')\n",
    "\n",
    "    plt.show()\n",
    "    \n",
    "# call it\n",
    "visualize_output(test_images, test_outputs, gt_pts)"
   ]
  },
  {
   "cell_type": "markdown",
   "metadata": {},
   "source": [
    "## Training\n",
    "\n",
    "#### Loss function\n",
    "Training a network to predict keypoints is different than training a network to predict a class; instead of outputting a distribution of classes and using cross entropy loss, you may want to choose a loss function that is suited for regression, which directly compares a predicted value and target value. Read about the various kinds of loss functions (like MSE or L1/SmoothL1 loss) in [this documentation](http://pytorch.org/docs/master/_modules/torch/nn/modules/loss.html).\n",
    "\n",
    "### TODO: Define the loss and optimization\n",
    "\n",
    "Next, you'll define how the model will train by deciding on the loss function and optimizer.\n",
    "\n",
    "---"
   ]
  },
  {
   "cell_type": "code",
   "execution_count": 13,
   "metadata": {},
   "outputs": [],
   "source": [
    "## TODO: Define the loss and optimization\n",
    "import torch.optim as optim\n",
    "\n",
    "criterion = nn.MSELoss()\n",
    "\n",
    "optimizer = optim.SGD(params=net.parameters(), lr=0.01, momentum=0.9)\n"
   ]
  },
  {
   "cell_type": "markdown",
   "metadata": {},
   "source": [
    "## Training and Initial Observation\n",
    "\n",
    "Now, you'll train on your batched training data from `train_loader` for a number of epochs. \n",
    "\n",
    "To quickly observe how your model is training and decide on whether or not you should modify it's structure or hyperparameters, you're encouraged to start off with just one or two epochs at first. As you train, note how your the model's loss behaves over time: does it decrease quickly at first and then slow down? Does it take a while to decrease in the first place? What happens if you change the batch size of your training data or modify your loss function? etc. \n",
    "\n",
    "Use these initial observations to make changes to your model and decide on the best architecture before you train for many epochs and create a final model."
   ]
  },
  {
   "cell_type": "code",
   "execution_count": 14,
   "metadata": {},
   "outputs": [],
   "source": [
    "def train_net(n_epochs):\n",
    "\n",
    "    # prepare the net for training\n",
    "    net.train()\n",
    "\n",
    "    for epoch in range(n_epochs):  # loop over the dataset multiple times\n",
    "        \n",
    "        running_loss = 0.0\n",
    "\n",
    "        # train on batches of data, assumes you already have train_loader\n",
    "        for batch_i, data in enumerate(train_loader):\n",
    "            # get the input images and their corresponding labels\n",
    "            images = data['image']\n",
    "            key_pts = data['keypoints']\n",
    "\n",
    "            # flatten pts\n",
    "            key_pts = key_pts.view(key_pts.size(0), -1)\n",
    "\n",
    "            # convert variables to floats for regression loss\n",
    "            key_pts = key_pts.type(torch.FloatTensor)\n",
    "            images = images.type(torch.FloatTensor)\n",
    "\n",
    "            # forward pass to get outputs\n",
    "            output_pts = net(images)\n",
    "\n",
    "            # calculate the loss between predicted and target keypoints\n",
    "            loss = criterion(output_pts, key_pts)\n",
    "\n",
    "            # zero the parameter (weight) gradients\n",
    "            optimizer.zero_grad()\n",
    "            \n",
    "            # backward pass to calculate the weight gradients\n",
    "            loss.backward()\n",
    "\n",
    "            # update the weights\n",
    "            optimizer.step()\n",
    "\n",
    "            # print loss statistics\n",
    "            running_loss += loss.item()\n",
    "            if batch_i % 10 == 9:    # print every 10 batches\n",
    "                print('Epoch: {}, Batch: {}, Avg. Loss: {}'.format(epoch + 1, batch_i+1, running_loss/10))\n",
    "                running_loss = 0.0\n",
    "\n",
    "    print('Finished Training')\n"
   ]
  },
  {
   "cell_type": "code",
   "execution_count": null,
   "metadata": {},
   "outputs": [
    {
     "name": "stderr",
     "output_type": "stream",
     "text": [
      "/home/workspace/data_load.py:39: FutureWarning: Method .as_matrix will be removed in a future version. Use .values instead.\n",
      "  key_pts = self.key_pts_frame.iloc[idx, 1:].as_matrix()\n",
      "/home/workspace/data_load.py:39: FutureWarning: Method .as_matrix will be removed in a future version. Use .values instead.\n",
      "  key_pts = self.key_pts_frame.iloc[idx, 1:].as_matrix()\n",
      "/home/workspace/data_load.py:39: FutureWarning: Method .as_matrix will be removed in a future version. Use .values instead.\n",
      "  key_pts = self.key_pts_frame.iloc[idx, 1:].as_matrix()\n",
      "/home/workspace/data_load.py:39: FutureWarning: Method .as_matrix will be removed in a future version. Use .values instead.\n",
      "  key_pts = self.key_pts_frame.iloc[idx, 1:].as_matrix()\n"
     ]
    },
    {
     "name": "stdout",
     "output_type": "stream",
     "text": [
      "Epoch: 1, Batch: 10, Avg. Loss: 0.31534998714923856\n",
      "Epoch: 1, Batch: 20, Avg. Loss: 0.20295234397053719\n",
      "Epoch: 1, Batch: 30, Avg. Loss: 0.17754692435264588\n",
      "Epoch: 1, Batch: 40, Avg. Loss: 0.15987954363226892\n",
      "Epoch: 1, Batch: 50, Avg. Loss: 0.23712849020957946\n",
      "Epoch: 1, Batch: 60, Avg. Loss: 0.19878109022974969\n",
      "Epoch: 1, Batch: 70, Avg. Loss: 0.14021943807601928\n",
      "Epoch: 1, Batch: 80, Avg. Loss: 0.14446860924363136\n",
      "Epoch: 1, Batch: 90, Avg. Loss: 0.1831377424299717\n",
      "Epoch: 1, Batch: 100, Avg. Loss: 0.12605223134160043\n",
      "Epoch: 1, Batch: 110, Avg. Loss: 0.17220591902732849\n",
      "Epoch: 1, Batch: 120, Avg. Loss: 0.14814935773611068\n",
      "Epoch: 1, Batch: 130, Avg. Loss: 0.17375418096780776\n",
      "Epoch: 1, Batch: 140, Avg. Loss: 0.14279530569911003\n",
      "Epoch: 1, Batch: 150, Avg. Loss: 0.1611775390803814\n",
      "Epoch: 1, Batch: 160, Avg. Loss: 0.16937032714486122\n",
      "Epoch: 1, Batch: 170, Avg. Loss: 0.16175068393349648\n",
      "Epoch: 1, Batch: 180, Avg. Loss: 0.1825631506741047\n",
      "Epoch: 1, Batch: 190, Avg. Loss: 0.14258646741509437\n",
      "Epoch: 1, Batch: 200, Avg. Loss: 0.17694076299667358\n",
      "Epoch: 1, Batch: 210, Avg. Loss: 0.12750578671693802\n",
      "Epoch: 1, Batch: 220, Avg. Loss: 0.13344583585858344\n",
      "Epoch: 1, Batch: 230, Avg. Loss: 0.16583645939826966\n",
      "Epoch: 1, Batch: 240, Avg. Loss: 0.1665035791695118\n",
      "Epoch: 1, Batch: 250, Avg. Loss: 0.14122530370950698\n",
      "Epoch: 1, Batch: 260, Avg. Loss: 0.1877125509083271\n",
      "Epoch: 1, Batch: 270, Avg. Loss: 0.1741471230983734\n",
      "Epoch: 1, Batch: 280, Avg. Loss: 0.2035362847149372\n",
      "Epoch: 1, Batch: 290, Avg. Loss: 0.30932229533791544\n",
      "Epoch: 1, Batch: 300, Avg. Loss: 0.1220445990562439\n",
      "Epoch: 1, Batch: 310, Avg. Loss: 0.12354554235935211\n",
      "Epoch: 1, Batch: 320, Avg. Loss: 0.1128384716808796\n",
      "Epoch: 1, Batch: 330, Avg. Loss: 0.14213529378175735\n",
      "Epoch: 1, Batch: 340, Avg. Loss: 0.15228590369224548\n"
     ]
    },
    {
     "name": "stderr",
     "output_type": "stream",
     "text": [
      "/home/workspace/data_load.py:39: FutureWarning: Method .as_matrix will be removed in a future version. Use .values instead.\n",
      "  key_pts = self.key_pts_frame.iloc[idx, 1:].as_matrix()\n",
      "/home/workspace/data_load.py:39: FutureWarning: Method .as_matrix will be removed in a future version. Use .values instead.\n",
      "  key_pts = self.key_pts_frame.iloc[idx, 1:].as_matrix()\n",
      "/home/workspace/data_load.py:39: FutureWarning: Method .as_matrix will be removed in a future version. Use .values instead.\n",
      "  key_pts = self.key_pts_frame.iloc[idx, 1:].as_matrix()\n",
      "/home/workspace/data_load.py:39: FutureWarning: Method .as_matrix will be removed in a future version. Use .values instead.\n",
      "  key_pts = self.key_pts_frame.iloc[idx, 1:].as_matrix()\n"
     ]
    },
    {
     "name": "stdout",
     "output_type": "stream",
     "text": [
      "Epoch: 2, Batch: 10, Avg. Loss: 0.14073850065469742\n",
      "Epoch: 2, Batch: 20, Avg. Loss: 0.13466727435588838\n",
      "Epoch: 2, Batch: 30, Avg. Loss: 0.13201056718826293\n",
      "Epoch: 2, Batch: 40, Avg. Loss: 0.13911650851368904\n",
      "Epoch: 2, Batch: 50, Avg. Loss: 0.13011860698461533\n",
      "Epoch: 2, Batch: 60, Avg. Loss: 0.1465567484498024\n",
      "Epoch: 2, Batch: 70, Avg. Loss: 0.18313218988478183\n",
      "Epoch: 2, Batch: 80, Avg. Loss: 0.16348801217973233\n",
      "Epoch: 2, Batch: 90, Avg. Loss: 0.1494025208055973\n",
      "Epoch: 2, Batch: 100, Avg. Loss: 0.14839784055948257\n",
      "Epoch: 2, Batch: 110, Avg. Loss: 0.15849770680069925\n",
      "Epoch: 2, Batch: 120, Avg. Loss: 0.161676137894392\n",
      "Epoch: 2, Batch: 130, Avg. Loss: 0.16346649155020715\n",
      "Epoch: 2, Batch: 140, Avg. Loss: 0.14864209070801734\n",
      "Epoch: 2, Batch: 150, Avg. Loss: 0.1484113186597824\n",
      "Epoch: 2, Batch: 160, Avg. Loss: 0.15327512696385384\n",
      "Epoch: 2, Batch: 170, Avg. Loss: 0.29301460534334184\n",
      "Epoch: 2, Batch: 180, Avg. Loss: 0.13786369040608407\n",
      "Epoch: 2, Batch: 190, Avg. Loss: 0.2044231414794922\n",
      "Epoch: 2, Batch: 200, Avg. Loss: 0.1437913164496422\n",
      "Epoch: 2, Batch: 210, Avg. Loss: 0.19832331091165542\n",
      "Epoch: 2, Batch: 220, Avg. Loss: 0.12189729139208794\n",
      "Epoch: 2, Batch: 230, Avg. Loss: 0.11613560169935226\n",
      "Epoch: 2, Batch: 240, Avg. Loss: 0.15825242772698403\n",
      "Epoch: 2, Batch: 250, Avg. Loss: 0.13876041322946547\n",
      "Epoch: 2, Batch: 260, Avg. Loss: 0.138483776897192\n",
      "Epoch: 2, Batch: 270, Avg. Loss: 0.18086087480187416\n",
      "Epoch: 2, Batch: 280, Avg. Loss: 0.1622782342135906\n",
      "Epoch: 2, Batch: 290, Avg. Loss: 0.17697947174310685\n",
      "Epoch: 2, Batch: 300, Avg. Loss: 0.18483260348439218\n",
      "Epoch: 2, Batch: 310, Avg. Loss: 0.11777918040752411\n",
      "Epoch: 2, Batch: 320, Avg. Loss: 0.1635168433189392\n",
      "Epoch: 2, Batch: 330, Avg. Loss: 0.16726868078112603\n",
      "Epoch: 2, Batch: 340, Avg. Loss: 0.13103063851594926\n"
     ]
    },
    {
     "name": "stderr",
     "output_type": "stream",
     "text": [
      "/home/workspace/data_load.py:39: FutureWarning: Method .as_matrix will be removed in a future version. Use .values instead.\n",
      "  key_pts = self.key_pts_frame.iloc[idx, 1:].as_matrix()\n",
      "/home/workspace/data_load.py:39: FutureWarning: Method .as_matrix will be removed in a future version. Use .values instead.\n",
      "  key_pts = self.key_pts_frame.iloc[idx, 1:].as_matrix()\n",
      "/home/workspace/data_load.py:39: FutureWarning: Method .as_matrix will be removed in a future version. Use .values instead.\n",
      "  key_pts = self.key_pts_frame.iloc[idx, 1:].as_matrix()\n",
      "/home/workspace/data_load.py:39: FutureWarning: Method .as_matrix will be removed in a future version. Use .values instead.\n",
      "  key_pts = self.key_pts_frame.iloc[idx, 1:].as_matrix()\n"
     ]
    },
    {
     "name": "stdout",
     "output_type": "stream",
     "text": [
      "Epoch: 3, Batch: 10, Avg. Loss: 0.12344875074923038\n",
      "Epoch: 3, Batch: 20, Avg. Loss: 0.14931047931313515\n",
      "Epoch: 3, Batch: 30, Avg. Loss: 0.1609750472009182\n",
      "Epoch: 3, Batch: 40, Avg. Loss: 0.12524463906884192\n",
      "Epoch: 3, Batch: 50, Avg. Loss: 0.14804210290312766\n",
      "Epoch: 3, Batch: 60, Avg. Loss: 0.15188536047935486\n",
      "Epoch: 3, Batch: 70, Avg. Loss: 0.12968346513807774\n",
      "Epoch: 3, Batch: 80, Avg. Loss: 0.13878472074866294\n",
      "Epoch: 3, Batch: 90, Avg. Loss: 0.13339565470814704\n",
      "Epoch: 3, Batch: 100, Avg. Loss: 0.1471603147685528\n",
      "Epoch: 3, Batch: 110, Avg. Loss: 0.21416770964860915\n",
      "Epoch: 3, Batch: 120, Avg. Loss: 0.16593252420425414\n",
      "Epoch: 3, Batch: 130, Avg. Loss: 0.14097705259919166\n",
      "Epoch: 3, Batch: 140, Avg. Loss: 0.16383862644433975\n",
      "Epoch: 3, Batch: 150, Avg. Loss: 0.31346837878227235\n",
      "Epoch: 3, Batch: 160, Avg. Loss: 0.14367823526263238\n",
      "Epoch: 3, Batch: 170, Avg. Loss: 0.17062872722744943\n",
      "Epoch: 3, Batch: 180, Avg. Loss: 0.12455824092030525\n",
      "Epoch: 3, Batch: 190, Avg. Loss: 0.15710321217775344\n",
      "Epoch: 3, Batch: 200, Avg. Loss: 0.13852550014853476\n",
      "Epoch: 3, Batch: 210, Avg. Loss: 0.17825368121266366\n",
      "Epoch: 3, Batch: 220, Avg. Loss: 0.13642347678542138\n",
      "Epoch: 3, Batch: 230, Avg. Loss: 0.16008272692561148\n",
      "Epoch: 3, Batch: 240, Avg. Loss: 0.14371539577841758\n",
      "Epoch: 3, Batch: 250, Avg. Loss: 0.1253070816397667\n",
      "Epoch: 3, Batch: 260, Avg. Loss: 0.16518142372369765\n",
      "Epoch: 3, Batch: 270, Avg. Loss: 0.1169174149632454\n",
      "Epoch: 3, Batch: 280, Avg. Loss: 0.1285369209945202\n",
      "Epoch: 3, Batch: 290, Avg. Loss: 0.12637275867164136\n",
      "Epoch: 3, Batch: 300, Avg. Loss: 0.18163247406482697\n",
      "Epoch: 3, Batch: 310, Avg. Loss: 0.10799123682081699\n",
      "Epoch: 3, Batch: 320, Avg. Loss: 0.11517516002058983\n",
      "Epoch: 3, Batch: 330, Avg. Loss: 0.1972329333424568\n",
      "Epoch: 3, Batch: 340, Avg. Loss: 0.13934000134468078\n"
     ]
    },
    {
     "name": "stderr",
     "output_type": "stream",
     "text": [
      "/home/workspace/data_load.py:39: FutureWarning: Method .as_matrix will be removed in a future version. Use .values instead.\n",
      "  key_pts = self.key_pts_frame.iloc[idx, 1:].as_matrix()\n",
      "/home/workspace/data_load.py:39: FutureWarning: Method .as_matrix will be removed in a future version. Use .values instead.\n",
      "  key_pts = self.key_pts_frame.iloc[idx, 1:].as_matrix()\n",
      "/home/workspace/data_load.py:39: FutureWarning: Method .as_matrix will be removed in a future version. Use .values instead.\n",
      "  key_pts = self.key_pts_frame.iloc[idx, 1:].as_matrix()\n",
      "/home/workspace/data_load.py:39: FutureWarning: Method .as_matrix will be removed in a future version. Use .values instead.\n",
      "  key_pts = self.key_pts_frame.iloc[idx, 1:].as_matrix()\n"
     ]
    },
    {
     "name": "stdout",
     "output_type": "stream",
     "text": [
      "Epoch: 4, Batch: 10, Avg. Loss: 0.16827699951827527\n",
      "Epoch: 4, Batch: 20, Avg. Loss: 0.1596010997891426\n",
      "Epoch: 4, Batch: 30, Avg. Loss: 0.12764981910586357\n",
      "Epoch: 4, Batch: 40, Avg. Loss: 0.16488505750894547\n",
      "Epoch: 4, Batch: 50, Avg. Loss: 0.1376644916832447\n",
      "Epoch: 4, Batch: 60, Avg. Loss: 0.13693047538399697\n",
      "Epoch: 4, Batch: 70, Avg. Loss: 0.12835885994136334\n",
      "Epoch: 4, Batch: 80, Avg. Loss: 0.11224698051810264\n",
      "Epoch: 4, Batch: 90, Avg. Loss: 0.11792891286313534\n",
      "Epoch: 4, Batch: 100, Avg. Loss: 0.14469487592577934\n",
      "Epoch: 4, Batch: 110, Avg. Loss: 0.21168062537908555\n",
      "Epoch: 4, Batch: 120, Avg. Loss: 0.10483985915780067\n",
      "Epoch: 4, Batch: 130, Avg. Loss: 0.16035501062870025\n",
      "Epoch: 4, Batch: 140, Avg. Loss: 0.14464101046323777\n",
      "Epoch: 4, Batch: 150, Avg. Loss: 0.13185639157891274\n",
      "Epoch: 4, Batch: 160, Avg. Loss: 0.1572187803685665\n",
      "Epoch: 4, Batch: 170, Avg. Loss: 0.1567287862300873\n",
      "Epoch: 4, Batch: 180, Avg. Loss: 0.14622495397925378\n",
      "Epoch: 4, Batch: 190, Avg. Loss: 0.12485345900058746\n",
      "Epoch: 4, Batch: 200, Avg. Loss: 0.10952436737716198\n",
      "Epoch: 4, Batch: 210, Avg. Loss: 0.15698164999485015\n",
      "Epoch: 4, Batch: 220, Avg. Loss: 0.13429089300334454\n",
      "Epoch: 4, Batch: 230, Avg. Loss: 0.16221404187381266\n",
      "Epoch: 4, Batch: 240, Avg. Loss: 0.12085574343800545\n",
      "Epoch: 4, Batch: 250, Avg. Loss: 0.14197985157370568\n",
      "Epoch: 4, Batch: 260, Avg. Loss: 0.12621145844459533\n",
      "Epoch: 4, Batch: 270, Avg. Loss: 0.1017147146165371\n",
      "Epoch: 4, Batch: 280, Avg. Loss: 0.12374069020152093\n",
      "Epoch: 4, Batch: 290, Avg. Loss: 0.1364575643092394\n",
      "Epoch: 4, Batch: 300, Avg. Loss: 0.1365653235465288\n",
      "Epoch: 4, Batch: 310, Avg. Loss: 0.14173840545117855\n",
      "Epoch: 4, Batch: 320, Avg. Loss: 0.10107670128345489\n",
      "Epoch: 4, Batch: 330, Avg. Loss: 0.29192433059215545\n",
      "Epoch: 4, Batch: 340, Avg. Loss: 0.11831670552492142\n"
     ]
    },
    {
     "name": "stderr",
     "output_type": "stream",
     "text": [
      "/home/workspace/data_load.py:39: FutureWarning: Method .as_matrix will be removed in a future version. Use .values instead.\n",
      "  key_pts = self.key_pts_frame.iloc[idx, 1:].as_matrix()\n",
      "/home/workspace/data_load.py:39: FutureWarning: Method .as_matrix will be removed in a future version. Use .values instead.\n",
      "  key_pts = self.key_pts_frame.iloc[idx, 1:].as_matrix()\n",
      "/home/workspace/data_load.py:39: FutureWarning: Method .as_matrix will be removed in a future version. Use .values instead.\n",
      "  key_pts = self.key_pts_frame.iloc[idx, 1:].as_matrix()\n",
      "/home/workspace/data_load.py:39: FutureWarning: Method .as_matrix will be removed in a future version. Use .values instead.\n",
      "  key_pts = self.key_pts_frame.iloc[idx, 1:].as_matrix()\n"
     ]
    },
    {
     "name": "stdout",
     "output_type": "stream",
     "text": [
      "Epoch: 5, Batch: 10, Avg. Loss: 0.1355292670428753\n",
      "Epoch: 5, Batch: 20, Avg. Loss: 0.10906713046133518\n",
      "Epoch: 5, Batch: 30, Avg. Loss: 0.10952969938516617\n",
      "Epoch: 5, Batch: 40, Avg. Loss: 0.09942631497979164\n",
      "Epoch: 5, Batch: 50, Avg. Loss: 0.12337682656943798\n",
      "Epoch: 5, Batch: 60, Avg. Loss: 0.11042358428239822\n",
      "Epoch: 5, Batch: 70, Avg. Loss: 0.11215061098337173\n",
      "Epoch: 5, Batch: 80, Avg. Loss: 0.11437389925122261\n",
      "Epoch: 5, Batch: 90, Avg. Loss: 0.11175270527601242\n",
      "Epoch: 5, Batch: 100, Avg. Loss: 0.09563512839376927\n",
      "Epoch: 5, Batch: 110, Avg. Loss: 0.17368684187531472\n",
      "Epoch: 5, Batch: 120, Avg. Loss: 0.12781663797795773\n",
      "Epoch: 5, Batch: 130, Avg. Loss: 0.11641507223248482\n",
      "Epoch: 5, Batch: 140, Avg. Loss: 0.14492318406701088\n",
      "Epoch: 5, Batch: 150, Avg. Loss: 0.16252718977630137\n",
      "Epoch: 5, Batch: 160, Avg. Loss: 0.13119140043854713\n",
      "Epoch: 5, Batch: 170, Avg. Loss: 0.1281135082244873\n",
      "Epoch: 5, Batch: 180, Avg. Loss: 0.07172329723834991\n",
      "Epoch: 5, Batch: 190, Avg. Loss: 0.13996500931680203\n",
      "Epoch: 5, Batch: 200, Avg. Loss: 0.1089289590716362\n",
      "Epoch: 5, Batch: 210, Avg. Loss: 0.127593245357275\n",
      "Epoch: 5, Batch: 220, Avg. Loss: 0.09209097400307656\n",
      "Epoch: 5, Batch: 230, Avg. Loss: 0.13684721626341342\n",
      "Epoch: 5, Batch: 240, Avg. Loss: 0.13319134004414082\n",
      "Epoch: 5, Batch: 250, Avg. Loss: 0.12389153093099595\n",
      "Epoch: 5, Batch: 260, Avg. Loss: 0.11341817192733288\n",
      "Epoch: 5, Batch: 270, Avg. Loss: 0.10422827824950218\n",
      "Epoch: 5, Batch: 280, Avg. Loss: 0.07314623184502125\n",
      "Epoch: 5, Batch: 290, Avg. Loss: 0.08741873577237129\n",
      "Epoch: 5, Batch: 300, Avg. Loss: 0.2009874053299427\n",
      "Epoch: 5, Batch: 310, Avg. Loss: 0.1045329675078392\n",
      "Epoch: 5, Batch: 320, Avg. Loss: 0.12093973457813263\n",
      "Epoch: 5, Batch: 330, Avg. Loss: 0.11269996240735054\n",
      "Epoch: 5, Batch: 340, Avg. Loss: 0.1301248650997877\n"
     ]
    },
    {
     "name": "stderr",
     "output_type": "stream",
     "text": [
      "/home/workspace/data_load.py:39: FutureWarning: Method .as_matrix will be removed in a future version. Use .values instead.\n",
      "  key_pts = self.key_pts_frame.iloc[idx, 1:].as_matrix()\n",
      "/home/workspace/data_load.py:39: FutureWarning: Method .as_matrix will be removed in a future version. Use .values instead.\n",
      "  key_pts = self.key_pts_frame.iloc[idx, 1:].as_matrix()\n",
      "/home/workspace/data_load.py:39: FutureWarning: Method .as_matrix will be removed in a future version. Use .values instead.\n",
      "  key_pts = self.key_pts_frame.iloc[idx, 1:].as_matrix()\n",
      "/home/workspace/data_load.py:39: FutureWarning: Method .as_matrix will be removed in a future version. Use .values instead.\n",
      "  key_pts = self.key_pts_frame.iloc[idx, 1:].as_matrix()\n"
     ]
    },
    {
     "name": "stdout",
     "output_type": "stream",
     "text": [
      "Epoch: 6, Batch: 10, Avg. Loss: 0.12367403134703636\n",
      "Epoch: 6, Batch: 20, Avg. Loss: 0.0906863421201706\n",
      "Epoch: 6, Batch: 30, Avg. Loss: 0.10575751028954983\n",
      "Epoch: 6, Batch: 40, Avg. Loss: 0.1052094779908657\n",
      "Epoch: 6, Batch: 50, Avg. Loss: 0.09731402546167374\n",
      "Epoch: 6, Batch: 60, Avg. Loss: 0.14746427424252034\n",
      "Epoch: 6, Batch: 70, Avg. Loss: 0.09172419086098671\n",
      "Epoch: 6, Batch: 80, Avg. Loss: 0.20905676186084748\n",
      "Epoch: 6, Batch: 90, Avg. Loss: 0.10215063616633416\n",
      "Epoch: 6, Batch: 100, Avg. Loss: 0.1268926426768303\n",
      "Epoch: 6, Batch: 110, Avg. Loss: 0.10948930121958256\n",
      "Epoch: 6, Batch: 120, Avg. Loss: 0.1514091704040766\n",
      "Epoch: 6, Batch: 130, Avg. Loss: 0.10836646743118764\n",
      "Epoch: 6, Batch: 140, Avg. Loss: 0.1125577598810196\n",
      "Epoch: 6, Batch: 150, Avg. Loss: 0.11795486137270927\n",
      "Epoch: 6, Batch: 160, Avg. Loss: 0.10093225874006748\n",
      "Epoch: 6, Batch: 170, Avg. Loss: 0.13773929551243783\n",
      "Epoch: 6, Batch: 180, Avg. Loss: 0.24632602334022521\n",
      "Epoch: 6, Batch: 190, Avg. Loss: 0.10656237229704857\n",
      "Epoch: 6, Batch: 200, Avg. Loss: 0.07912154383957386\n",
      "Epoch: 6, Batch: 210, Avg. Loss: 0.10175694338977337\n",
      "Epoch: 6, Batch: 220, Avg. Loss: 0.10804213583469391\n",
      "Epoch: 6, Batch: 230, Avg. Loss: 0.07045753560960293\n",
      "Epoch: 6, Batch: 240, Avg. Loss: 0.09978477880358697\n",
      "Epoch: 6, Batch: 250, Avg. Loss: 0.1164455059915781\n",
      "Epoch: 6, Batch: 260, Avg. Loss: 0.22812466956675054\n",
      "Epoch: 6, Batch: 270, Avg. Loss: 0.06899487972259521\n",
      "Epoch: 6, Batch: 280, Avg. Loss: 0.09847799614071846\n",
      "Epoch: 6, Batch: 290, Avg. Loss: 0.09927403964102269\n",
      "Epoch: 6, Batch: 300, Avg. Loss: 0.08632817007601261\n",
      "Epoch: 6, Batch: 310, Avg. Loss: 0.09657303467392922\n",
      "Epoch: 6, Batch: 320, Avg. Loss: 0.07633096557110548\n",
      "Epoch: 6, Batch: 330, Avg. Loss: 0.0849237471818924\n",
      "Epoch: 6, Batch: 340, Avg. Loss: 0.15521863363683225\n"
     ]
    },
    {
     "name": "stderr",
     "output_type": "stream",
     "text": [
      "/home/workspace/data_load.py:39: FutureWarning: Method .as_matrix will be removed in a future version. Use .values instead.\n",
      "  key_pts = self.key_pts_frame.iloc[idx, 1:].as_matrix()\n",
      "/home/workspace/data_load.py:39: FutureWarning: Method .as_matrix will be removed in a future version. Use .values instead.\n",
      "  key_pts = self.key_pts_frame.iloc[idx, 1:].as_matrix()\n",
      "/home/workspace/data_load.py:39: FutureWarning: Method .as_matrix will be removed in a future version. Use .values instead.\n",
      "  key_pts = self.key_pts_frame.iloc[idx, 1:].as_matrix()\n",
      "/home/workspace/data_load.py:39: FutureWarning: Method .as_matrix will be removed in a future version. Use .values instead.\n",
      "  key_pts = self.key_pts_frame.iloc[idx, 1:].as_matrix()\n"
     ]
    },
    {
     "name": "stdout",
     "output_type": "stream",
     "text": [
      "Epoch: 7, Batch: 10, Avg. Loss: 0.10849674828350545\n",
      "Epoch: 7, Batch: 20, Avg. Loss: 0.08869119510054588\n",
      "Epoch: 7, Batch: 30, Avg. Loss: 0.07883641645312309\n",
      "Epoch: 7, Batch: 40, Avg. Loss: 0.07453315183520318\n",
      "Epoch: 7, Batch: 50, Avg. Loss: 0.05296936556696892\n",
      "Epoch: 7, Batch: 60, Avg. Loss: 0.06771941222250462\n",
      "Epoch: 7, Batch: 70, Avg. Loss: 0.0748161643743515\n",
      "Epoch: 7, Batch: 80, Avg. Loss: 0.09643708169460297\n",
      "Epoch: 7, Batch: 90, Avg. Loss: 0.09787096790969371\n",
      "Epoch: 7, Batch: 100, Avg. Loss: 0.10512102916836738\n",
      "Epoch: 7, Batch: 110, Avg. Loss: 0.16709405556321144\n",
      "Epoch: 7, Batch: 120, Avg. Loss: 0.09096519537270069\n",
      "Epoch: 7, Batch: 130, Avg. Loss: 0.08329739794135094\n",
      "Epoch: 7, Batch: 140, Avg. Loss: 0.10246699452400207\n",
      "Epoch: 7, Batch: 150, Avg. Loss: 0.07847258038818836\n",
      "Epoch: 7, Batch: 160, Avg. Loss: 0.1290070727467537\n",
      "Epoch: 7, Batch: 170, Avg. Loss: 0.08852382935583591\n",
      "Epoch: 7, Batch: 180, Avg. Loss: 0.0974539790302515\n",
      "Epoch: 7, Batch: 190, Avg. Loss: 0.08942596428096294\n",
      "Epoch: 7, Batch: 200, Avg. Loss: 0.07629384696483613\n",
      "Epoch: 7, Batch: 210, Avg. Loss: 0.07218716256320476\n",
      "Epoch: 7, Batch: 220, Avg. Loss: 0.06218868028372526\n",
      "Epoch: 7, Batch: 230, Avg. Loss: 0.08118713311851025\n",
      "Epoch: 7, Batch: 240, Avg. Loss: 0.14140589758753777\n",
      "Epoch: 7, Batch: 250, Avg. Loss: 0.056636708602309224\n",
      "Epoch: 7, Batch: 260, Avg. Loss: 0.08288331553339959\n",
      "Epoch: 7, Batch: 270, Avg. Loss: 0.07933875769376755\n",
      "Epoch: 7, Batch: 280, Avg. Loss: 0.23730791322886943\n",
      "Epoch: 7, Batch: 290, Avg. Loss: 0.1585510801523924\n",
      "Epoch: 7, Batch: 300, Avg. Loss: 0.09038766473531723\n",
      "Epoch: 7, Batch: 310, Avg. Loss: 0.07947670072317123\n",
      "Epoch: 7, Batch: 320, Avg. Loss: 0.09365971572697163\n",
      "Epoch: 7, Batch: 330, Avg. Loss: 0.09109029620885849\n",
      "Epoch: 7, Batch: 340, Avg. Loss: 0.09976671524345875\n"
     ]
    },
    {
     "name": "stderr",
     "output_type": "stream",
     "text": [
      "/home/workspace/data_load.py:39: FutureWarning: Method .as_matrix will be removed in a future version. Use .values instead.\n",
      "  key_pts = self.key_pts_frame.iloc[idx, 1:].as_matrix()\n",
      "/home/workspace/data_load.py:39: FutureWarning: Method .as_matrix will be removed in a future version. Use .values instead.\n",
      "  key_pts = self.key_pts_frame.iloc[idx, 1:].as_matrix()\n",
      "/home/workspace/data_load.py:39: FutureWarning: Method .as_matrix will be removed in a future version. Use .values instead.\n",
      "  key_pts = self.key_pts_frame.iloc[idx, 1:].as_matrix()\n",
      "/home/workspace/data_load.py:39: FutureWarning: Method .as_matrix will be removed in a future version. Use .values instead.\n",
      "  key_pts = self.key_pts_frame.iloc[idx, 1:].as_matrix()\n"
     ]
    },
    {
     "name": "stdout",
     "output_type": "stream",
     "text": [
      "Epoch: 8, Batch: 10, Avg. Loss: 0.09528113678097724\n",
      "Epoch: 8, Batch: 20, Avg. Loss: 0.07890338711440563\n",
      "Epoch: 8, Batch: 30, Avg. Loss: 0.09739066436886787\n",
      "Epoch: 8, Batch: 40, Avg. Loss: 0.064279380813241\n",
      "Epoch: 8, Batch: 50, Avg. Loss: 0.06853725984692574\n",
      "Epoch: 8, Batch: 60, Avg. Loss: 0.09435238502919674\n",
      "Epoch: 8, Batch: 70, Avg. Loss: 0.058853357844054696\n",
      "Epoch: 8, Batch: 80, Avg. Loss: 0.05063106492161751\n",
      "Epoch: 8, Batch: 90, Avg. Loss: 0.10121947154402733\n",
      "Epoch: 8, Batch: 100, Avg. Loss: 0.07791615910828113\n",
      "Epoch: 8, Batch: 110, Avg. Loss: 0.08074006214737892\n",
      "Epoch: 8, Batch: 120, Avg. Loss: 0.08396253548562527\n",
      "Epoch: 8, Batch: 130, Avg. Loss: 0.08291896060109138\n",
      "Epoch: 8, Batch: 140, Avg. Loss: 0.09393132887780667\n",
      "Epoch: 8, Batch: 150, Avg. Loss: 0.07189503312110901\n",
      "Epoch: 8, Batch: 160, Avg. Loss: 0.07515275068581104\n",
      "Epoch: 8, Batch: 170, Avg. Loss: 0.11563510224223136\n",
      "Epoch: 8, Batch: 180, Avg. Loss: 0.0923205405473709\n",
      "Epoch: 8, Batch: 190, Avg. Loss: 0.13110840637236834\n",
      "Epoch: 8, Batch: 200, Avg. Loss: 0.07212867606431246\n",
      "Epoch: 8, Batch: 210, Avg. Loss: 0.11723166145384312\n",
      "Epoch: 8, Batch: 220, Avg. Loss: 0.07544721253216266\n",
      "Epoch: 8, Batch: 230, Avg. Loss: 0.1523797757923603\n",
      "Epoch: 8, Batch: 240, Avg. Loss: 0.1350353963673115\n",
      "Epoch: 8, Batch: 250, Avg. Loss: 0.07318155989050865\n",
      "Epoch: 8, Batch: 260, Avg. Loss: 0.0540768064558506\n",
      "Epoch: 8, Batch: 270, Avg. Loss: 0.0884192269295454\n",
      "Epoch: 8, Batch: 280, Avg. Loss: 0.07405985705554485\n",
      "Epoch: 8, Batch: 290, Avg. Loss: 0.06140689067542553\n",
      "Epoch: 8, Batch: 300, Avg. Loss: 0.18264413252472878\n",
      "Epoch: 8, Batch: 310, Avg. Loss: 0.15723970346152782\n",
      "Epoch: 8, Batch: 320, Avg. Loss: 0.072677506133914\n",
      "Epoch: 8, Batch: 330, Avg. Loss: 0.0934846468269825\n",
      "Epoch: 8, Batch: 340, Avg. Loss: 0.07159988284111023\n"
     ]
    },
    {
     "name": "stderr",
     "output_type": "stream",
     "text": [
      "/home/workspace/data_load.py:39: FutureWarning: Method .as_matrix will be removed in a future version. Use .values instead.\n",
      "  key_pts = self.key_pts_frame.iloc[idx, 1:].as_matrix()\n",
      "/home/workspace/data_load.py:39: FutureWarning: Method .as_matrix will be removed in a future version. Use .values instead.\n",
      "  key_pts = self.key_pts_frame.iloc[idx, 1:].as_matrix()\n",
      "/home/workspace/data_load.py:39: FutureWarning: Method .as_matrix will be removed in a future version. Use .values instead.\n",
      "  key_pts = self.key_pts_frame.iloc[idx, 1:].as_matrix()\n",
      "/home/workspace/data_load.py:39: FutureWarning: Method .as_matrix will be removed in a future version. Use .values instead.\n",
      "  key_pts = self.key_pts_frame.iloc[idx, 1:].as_matrix()\n"
     ]
    },
    {
     "name": "stdout",
     "output_type": "stream",
     "text": [
      "Epoch: 9, Batch: 10, Avg. Loss: 0.10169456824660301\n",
      "Epoch: 9, Batch: 20, Avg. Loss: 0.07760817669332028\n",
      "Epoch: 9, Batch: 30, Avg. Loss: 0.05608755517750978\n",
      "Epoch: 9, Batch: 40, Avg. Loss: 0.08790728114545346\n",
      "Epoch: 9, Batch: 50, Avg. Loss: 0.054940303042531016\n",
      "Epoch: 9, Batch: 60, Avg. Loss: 0.18177691325545312\n",
      "Epoch: 9, Batch: 70, Avg. Loss: 0.0721537258476019\n",
      "Epoch: 9, Batch: 80, Avg. Loss: 0.06925025209784508\n",
      "Epoch: 9, Batch: 90, Avg. Loss: 0.057328409515321255\n",
      "Epoch: 9, Batch: 100, Avg. Loss: 0.09823378957808018\n",
      "Epoch: 9, Batch: 110, Avg. Loss: 0.066555430367589\n",
      "Epoch: 9, Batch: 120, Avg. Loss: 0.07086916193366051\n",
      "Epoch: 9, Batch: 130, Avg. Loss: 0.05794235430657864\n",
      "Epoch: 9, Batch: 140, Avg. Loss: 0.11683763265609741\n",
      "Epoch: 9, Batch: 150, Avg. Loss: 0.07320418935269117\n",
      "Epoch: 9, Batch: 160, Avg. Loss: 0.060021452233195306\n",
      "Epoch: 9, Batch: 170, Avg. Loss: 0.06140660680830479\n",
      "Epoch: 9, Batch: 180, Avg. Loss: 0.08721190728247166\n",
      "Epoch: 9, Batch: 190, Avg. Loss: 0.0744462851434946\n",
      "Epoch: 9, Batch: 200, Avg. Loss: 0.07915266454219819\n",
      "Epoch: 9, Batch: 210, Avg. Loss: 0.07685517705976963\n",
      "Epoch: 9, Batch: 220, Avg. Loss: 0.05687979273498058\n",
      "Epoch: 9, Batch: 230, Avg. Loss: 0.059020303562283515\n",
      "Epoch: 9, Batch: 240, Avg. Loss: 0.05557026490569115\n",
      "Epoch: 9, Batch: 250, Avg. Loss: 0.08757268078625202\n",
      "Epoch: 9, Batch: 260, Avg. Loss: 0.1242957714945078\n",
      "Epoch: 9, Batch: 270, Avg. Loss: 0.08561884835362435\n",
      "Epoch: 9, Batch: 280, Avg. Loss: 0.06830760166049003\n",
      "Epoch: 9, Batch: 290, Avg. Loss: 0.09884337987750769\n",
      "Epoch: 9, Batch: 300, Avg. Loss: 0.07898107059299946\n",
      "Epoch: 9, Batch: 310, Avg. Loss: 0.09125107862055301\n",
      "Epoch: 9, Batch: 320, Avg. Loss: 0.06611638516187668\n",
      "Epoch: 9, Batch: 330, Avg. Loss: 0.0950331635773182\n",
      "Epoch: 9, Batch: 340, Avg. Loss: 0.06006469279527664\n"
     ]
    },
    {
     "name": "stderr",
     "output_type": "stream",
     "text": [
      "/home/workspace/data_load.py:39: FutureWarning: Method .as_matrix will be removed in a future version. Use .values instead.\n",
      "  key_pts = self.key_pts_frame.iloc[idx, 1:].as_matrix()\n",
      "/home/workspace/data_load.py:39: FutureWarning: Method .as_matrix will be removed in a future version. Use .values instead.\n",
      "  key_pts = self.key_pts_frame.iloc[idx, 1:].as_matrix()\n",
      "/home/workspace/data_load.py:39: FutureWarning: Method .as_matrix will be removed in a future version. Use .values instead.\n",
      "  key_pts = self.key_pts_frame.iloc[idx, 1:].as_matrix()\n",
      "/home/workspace/data_load.py:39: FutureWarning: Method .as_matrix will be removed in a future version. Use .values instead.\n",
      "  key_pts = self.key_pts_frame.iloc[idx, 1:].as_matrix()\n"
     ]
    },
    {
     "name": "stdout",
     "output_type": "stream",
     "text": [
      "Epoch: 10, Batch: 10, Avg. Loss: 0.057669323310256\n",
      "Epoch: 10, Batch: 20, Avg. Loss: 0.06756827197968959\n",
      "Epoch: 10, Batch: 30, Avg. Loss: 0.07285832837224007\n",
      "Epoch: 10, Batch: 40, Avg. Loss: 0.048094659298658374\n",
      "Epoch: 10, Batch: 50, Avg. Loss: 0.04211261160671711\n",
      "Epoch: 10, Batch: 60, Avg. Loss: 0.047748958505690095\n",
      "Epoch: 10, Batch: 70, Avg. Loss: 0.07534796483814717\n",
      "Epoch: 10, Batch: 80, Avg. Loss: 0.053982547484338284\n",
      "Epoch: 10, Batch: 90, Avg. Loss: 0.06832134313881397\n",
      "Epoch: 10, Batch: 100, Avg. Loss: 0.04710749629884958\n",
      "Epoch: 10, Batch: 110, Avg. Loss: 0.07799660451710225\n",
      "Epoch: 10, Batch: 120, Avg. Loss: 0.11339917406439781\n",
      "Epoch: 10, Batch: 130, Avg. Loss: 0.0625382199883461\n",
      "Epoch: 10, Batch: 140, Avg. Loss: 0.06607070956379175\n",
      "Epoch: 10, Batch: 150, Avg. Loss: 0.0672961575910449\n",
      "Epoch: 10, Batch: 160, Avg. Loss: 0.09246552493423224\n",
      "Epoch: 10, Batch: 170, Avg. Loss: 0.05833432450890541\n",
      "Epoch: 10, Batch: 180, Avg. Loss: 0.06133654788136482\n",
      "Epoch: 10, Batch: 190, Avg. Loss: 0.07779117636382579\n",
      "Epoch: 10, Batch: 200, Avg. Loss: 0.21525996569544076\n",
      "Epoch: 10, Batch: 210, Avg. Loss: 0.06377596147358418\n",
      "Epoch: 10, Batch: 220, Avg. Loss: 0.06743091568350792\n",
      "Epoch: 10, Batch: 230, Avg. Loss: 0.07103911973536015\n",
      "Epoch: 10, Batch: 240, Avg. Loss: 0.0629607642069459\n",
      "Epoch: 10, Batch: 250, Avg. Loss: 0.06268670111894607\n",
      "Epoch: 10, Batch: 260, Avg. Loss: 0.07051419783383608\n",
      "Epoch: 10, Batch: 270, Avg. Loss: 0.07226053401827812\n",
      "Epoch: 10, Batch: 280, Avg. Loss: 0.07859445698559284\n",
      "Epoch: 10, Batch: 290, Avg. Loss: 0.09573175795376301\n",
      "Epoch: 10, Batch: 300, Avg. Loss: 0.06525198109447956\n",
      "Epoch: 10, Batch: 310, Avg. Loss: 0.050581604987382886\n",
      "Epoch: 10, Batch: 320, Avg. Loss: 0.07449465524405241\n",
      "Epoch: 10, Batch: 330, Avg. Loss: 0.07037743497639895\n",
      "Epoch: 10, Batch: 340, Avg. Loss: 0.06177638173103332\n"
     ]
    },
    {
     "name": "stderr",
     "output_type": "stream",
     "text": [
      "/home/workspace/data_load.py:39: FutureWarning: Method .as_matrix will be removed in a future version. Use .values instead.\n",
      "  key_pts = self.key_pts_frame.iloc[idx, 1:].as_matrix()\n",
      "/home/workspace/data_load.py:39: FutureWarning: Method .as_matrix will be removed in a future version. Use .values instead.\n",
      "  key_pts = self.key_pts_frame.iloc[idx, 1:].as_matrix()\n",
      "/home/workspace/data_load.py:39: FutureWarning: Method .as_matrix will be removed in a future version. Use .values instead.\n",
      "  key_pts = self.key_pts_frame.iloc[idx, 1:].as_matrix()\n",
      "/home/workspace/data_load.py:39: FutureWarning: Method .as_matrix will be removed in a future version. Use .values instead.\n",
      "  key_pts = self.key_pts_frame.iloc[idx, 1:].as_matrix()\n"
     ]
    },
    {
     "name": "stdout",
     "output_type": "stream",
     "text": [
      "Epoch: 11, Batch: 10, Avg. Loss: 0.05045810267329216\n",
      "Epoch: 11, Batch: 20, Avg. Loss: 0.10539989024400712\n",
      "Epoch: 11, Batch: 30, Avg. Loss: 0.06529119238257408\n",
      "Epoch: 11, Batch: 40, Avg. Loss: 0.08209878019988537\n",
      "Epoch: 11, Batch: 50, Avg. Loss: 0.06055448576807976\n",
      "Epoch: 11, Batch: 60, Avg. Loss: 0.07850751616060733\n",
      "Epoch: 11, Batch: 70, Avg. Loss: 0.052998977899551394\n",
      "Epoch: 11, Batch: 80, Avg. Loss: 0.05688698161393404\n",
      "Epoch: 11, Batch: 90, Avg. Loss: 0.06887969970703126\n",
      "Epoch: 11, Batch: 100, Avg. Loss: 0.06494545787572861\n",
      "Epoch: 11, Batch: 110, Avg. Loss: 0.10244055427610874\n",
      "Epoch: 11, Batch: 120, Avg. Loss: 0.08777939397841691\n",
      "Epoch: 11, Batch: 130, Avg. Loss: 0.07906551696360112\n",
      "Epoch: 11, Batch: 140, Avg. Loss: 0.08511115908622742\n",
      "Epoch: 11, Batch: 150, Avg. Loss: 0.07981241121888161\n",
      "Epoch: 11, Batch: 160, Avg. Loss: 0.06773118767887354\n",
      "Epoch: 11, Batch: 170, Avg. Loss: 0.034234704449772835\n",
      "Epoch: 11, Batch: 180, Avg. Loss: 0.06866069454699755\n",
      "Epoch: 11, Batch: 190, Avg. Loss: 0.06420429460704327\n",
      "Epoch: 11, Batch: 200, Avg. Loss: 0.0916858535259962\n",
      "Epoch: 11, Batch: 210, Avg. Loss: 0.07631493918597698\n",
      "Epoch: 11, Batch: 220, Avg. Loss: 0.06526451818645\n",
      "Epoch: 11, Batch: 230, Avg. Loss: 0.1540340818464756\n",
      "Epoch: 11, Batch: 240, Avg. Loss: 0.0613896768540144\n",
      "Epoch: 11, Batch: 250, Avg. Loss: 0.0882324181497097\n",
      "Epoch: 11, Batch: 260, Avg. Loss: 0.07788073029369116\n",
      "Epoch: 11, Batch: 270, Avg. Loss: 0.06943271234631539\n",
      "Epoch: 11, Batch: 280, Avg. Loss: 0.050068704411387444\n",
      "Epoch: 11, Batch: 290, Avg. Loss: 0.10956143066287041\n",
      "Epoch: 11, Batch: 300, Avg. Loss: 0.09988997019827366\n",
      "Epoch: 11, Batch: 310, Avg. Loss: 0.05122820902615786\n",
      "Epoch: 11, Batch: 320, Avg. Loss: 0.07133866511285306\n",
      "Epoch: 11, Batch: 330, Avg. Loss: 0.0575860071927309\n",
      "Epoch: 11, Batch: 340, Avg. Loss: 0.10050554815679788\n"
     ]
    },
    {
     "name": "stderr",
     "output_type": "stream",
     "text": [
      "/home/workspace/data_load.py:39: FutureWarning: Method .as_matrix will be removed in a future version. Use .values instead.\n",
      "  key_pts = self.key_pts_frame.iloc[idx, 1:].as_matrix()\n",
      "/home/workspace/data_load.py:39: FutureWarning: Method .as_matrix will be removed in a future version. Use .values instead.\n",
      "  key_pts = self.key_pts_frame.iloc[idx, 1:].as_matrix()\n",
      "/home/workspace/data_load.py:39: FutureWarning: Method .as_matrix will be removed in a future version. Use .values instead.\n",
      "  key_pts = self.key_pts_frame.iloc[idx, 1:].as_matrix()\n",
      "/home/workspace/data_load.py:39: FutureWarning: Method .as_matrix will be removed in a future version. Use .values instead.\n",
      "  key_pts = self.key_pts_frame.iloc[idx, 1:].as_matrix()\n"
     ]
    },
    {
     "name": "stdout",
     "output_type": "stream",
     "text": [
      "Epoch: 12, Batch: 10, Avg. Loss: 0.09150605350732803\n",
      "Epoch: 12, Batch: 20, Avg. Loss: 0.04587096087634564\n",
      "Epoch: 12, Batch: 30, Avg. Loss: 0.0617992427200079\n",
      "Epoch: 12, Batch: 40, Avg. Loss: 0.06659383103251457\n",
      "Epoch: 12, Batch: 50, Avg. Loss: 0.0517857626080513\n",
      "Epoch: 12, Batch: 60, Avg. Loss: 0.05164240635931492\n",
      "Epoch: 12, Batch: 70, Avg. Loss: 0.07249113712459802\n",
      "Epoch: 12, Batch: 80, Avg. Loss: 0.05024156384170055\n",
      "Epoch: 12, Batch: 90, Avg. Loss: 0.04809061586856842\n",
      "Epoch: 12, Batch: 100, Avg. Loss: 0.05283656679093838\n",
      "Epoch: 12, Batch: 110, Avg. Loss: 0.20316343028098344\n",
      "Epoch: 12, Batch: 120, Avg. Loss: 0.06377073656767607\n",
      "Epoch: 12, Batch: 130, Avg. Loss: 0.06652918625622987\n",
      "Epoch: 12, Batch: 140, Avg. Loss: 0.06550024822354317\n",
      "Epoch: 12, Batch: 150, Avg. Loss: 0.08497832491993904\n",
      "Epoch: 12, Batch: 160, Avg. Loss: 0.04509494286030531\n",
      "Epoch: 12, Batch: 170, Avg. Loss: 0.05953456480056048\n",
      "Epoch: 12, Batch: 180, Avg. Loss: 0.10112146530300378\n",
      "Epoch: 12, Batch: 190, Avg. Loss: 0.06346686370670795\n",
      "Epoch: 12, Batch: 200, Avg. Loss: 0.05540303513407707\n",
      "Epoch: 12, Batch: 210, Avg. Loss: 0.04583768546581268\n",
      "Epoch: 12, Batch: 220, Avg. Loss: 0.05212273001670838\n",
      "Epoch: 12, Batch: 230, Avg. Loss: 0.0582149650901556\n",
      "Epoch: 12, Batch: 240, Avg. Loss: 0.09293732605874538\n",
      "Epoch: 12, Batch: 250, Avg. Loss: 0.0683253601193428\n",
      "Epoch: 12, Batch: 260, Avg. Loss: 0.06980852596461773\n",
      "Epoch: 12, Batch: 270, Avg. Loss: 0.04774027019739151\n",
      "Epoch: 12, Batch: 280, Avg. Loss: 0.06686623711138964\n",
      "Epoch: 12, Batch: 290, Avg. Loss: 0.05486450027674437\n",
      "Epoch: 12, Batch: 300, Avg. Loss: 0.0783866573125124\n",
      "Epoch: 12, Batch: 310, Avg. Loss: 0.06672660987824201\n",
      "Epoch: 12, Batch: 320, Avg. Loss: 0.06197516117244959\n",
      "Epoch: 12, Batch: 330, Avg. Loss: 0.04643246177583933\n",
      "Epoch: 12, Batch: 340, Avg. Loss: 0.11815080791711807\n"
     ]
    },
    {
     "name": "stderr",
     "output_type": "stream",
     "text": [
      "/home/workspace/data_load.py:39: FutureWarning: Method .as_matrix will be removed in a future version. Use .values instead.\n",
      "  key_pts = self.key_pts_frame.iloc[idx, 1:].as_matrix()\n",
      "/home/workspace/data_load.py:39: FutureWarning: Method .as_matrix will be removed in a future version. Use .values instead.\n",
      "  key_pts = self.key_pts_frame.iloc[idx, 1:].as_matrix()\n",
      "/home/workspace/data_load.py:39: FutureWarning: Method .as_matrix will be removed in a future version. Use .values instead.\n",
      "  key_pts = self.key_pts_frame.iloc[idx, 1:].as_matrix()\n",
      "/home/workspace/data_load.py:39: FutureWarning: Method .as_matrix will be removed in a future version. Use .values instead.\n",
      "  key_pts = self.key_pts_frame.iloc[idx, 1:].as_matrix()\n"
     ]
    },
    {
     "name": "stdout",
     "output_type": "stream",
     "text": [
      "Epoch: 13, Batch: 10, Avg. Loss: 0.06012761164456606\n",
      "Epoch: 13, Batch: 20, Avg. Loss: 0.1438945271074772\n",
      "Epoch: 13, Batch: 30, Avg. Loss: 0.0476820869371295\n",
      "Epoch: 13, Batch: 40, Avg. Loss: 0.046403674967586996\n",
      "Epoch: 13, Batch: 50, Avg. Loss: 0.06567443665117026\n",
      "Epoch: 13, Batch: 60, Avg. Loss: 0.03944572359323502\n",
      "Epoch: 13, Batch: 70, Avg. Loss: 0.0666777877137065\n",
      "Epoch: 13, Batch: 80, Avg. Loss: 0.11004948746412993\n",
      "Epoch: 13, Batch: 90, Avg. Loss: 0.0724510509520769\n",
      "Epoch: 13, Batch: 100, Avg. Loss: 0.04480722695589066\n",
      "Epoch: 13, Batch: 110, Avg. Loss: 0.054203618504107\n",
      "Epoch: 13, Batch: 120, Avg. Loss: 0.07023468278348446\n",
      "Epoch: 13, Batch: 130, Avg. Loss: 0.05776655413210392\n",
      "Epoch: 13, Batch: 140, Avg. Loss: 0.05489649139344692\n",
      "Epoch: 13, Batch: 150, Avg. Loss: 0.10135802943259478\n",
      "Epoch: 13, Batch: 160, Avg. Loss: 0.05102251097559929\n",
      "Epoch: 13, Batch: 170, Avg. Loss: 0.054686822928488255\n",
      "Epoch: 13, Batch: 180, Avg. Loss: 0.09533905982971191\n",
      "Epoch: 13, Batch: 190, Avg. Loss: 0.05633112359791994\n",
      "Epoch: 13, Batch: 200, Avg. Loss: 0.04951380603015423\n",
      "Epoch: 13, Batch: 210, Avg. Loss: 0.07149651423096656\n",
      "Epoch: 13, Batch: 220, Avg. Loss: 0.048400369845330714\n",
      "Epoch: 13, Batch: 230, Avg. Loss: 0.05660237558186054\n",
      "Epoch: 13, Batch: 240, Avg. Loss: 0.04554032851010561\n",
      "Epoch: 13, Batch: 250, Avg. Loss: 0.05607680082321167\n",
      "Epoch: 13, Batch: 260, Avg. Loss: 0.07283848524093628\n",
      "Epoch: 13, Batch: 270, Avg. Loss: 0.05318856164813042\n",
      "Epoch: 13, Batch: 280, Avg. Loss: 0.05254196953028441\n",
      "Epoch: 13, Batch: 290, Avg. Loss: 0.05171333886682987\n",
      "Epoch: 13, Batch: 300, Avg. Loss: 0.0493045998737216\n",
      "Epoch: 13, Batch: 310, Avg. Loss: 0.04707247000187635\n",
      "Epoch: 13, Batch: 320, Avg. Loss: 0.23225927725434303\n",
      "Epoch: 13, Batch: 330, Avg. Loss: 0.13493331521749496\n",
      "Epoch: 13, Batch: 340, Avg. Loss: 0.04692328386008739\n"
     ]
    },
    {
     "name": "stderr",
     "output_type": "stream",
     "text": [
      "/home/workspace/data_load.py:39: FutureWarning: Method .as_matrix will be removed in a future version. Use .values instead.\n",
      "  key_pts = self.key_pts_frame.iloc[idx, 1:].as_matrix()\n",
      "/home/workspace/data_load.py:39: FutureWarning: Method .as_matrix will be removed in a future version. Use .values instead.\n",
      "  key_pts = self.key_pts_frame.iloc[idx, 1:].as_matrix()\n",
      "/home/workspace/data_load.py:39: FutureWarning: Method .as_matrix will be removed in a future version. Use .values instead.\n",
      "  key_pts = self.key_pts_frame.iloc[idx, 1:].as_matrix()\n",
      "/home/workspace/data_load.py:39: FutureWarning: Method .as_matrix will be removed in a future version. Use .values instead.\n",
      "  key_pts = self.key_pts_frame.iloc[idx, 1:].as_matrix()\n"
     ]
    },
    {
     "name": "stdout",
     "output_type": "stream",
     "text": [
      "Epoch: 14, Batch: 10, Avg. Loss: 0.04685516580939293\n",
      "Epoch: 14, Batch: 20, Avg. Loss: 0.07530673556029796\n",
      "Epoch: 14, Batch: 30, Avg. Loss: 0.05049766041338444\n",
      "Epoch: 14, Batch: 40, Avg. Loss: 0.05712876413017511\n",
      "Epoch: 14, Batch: 50, Avg. Loss: 0.05770124606788159\n",
      "Epoch: 14, Batch: 60, Avg. Loss: 0.04523602928966284\n",
      "Epoch: 14, Batch: 70, Avg. Loss: 0.06657064259052277\n",
      "Epoch: 14, Batch: 80, Avg. Loss: 0.05294644422829151\n",
      "Epoch: 14, Batch: 90, Avg. Loss: 0.07427771110087633\n",
      "Epoch: 14, Batch: 100, Avg. Loss: 0.08912460878491402\n",
      "Epoch: 14, Batch: 110, Avg. Loss: 0.06033360287547111\n",
      "Epoch: 14, Batch: 120, Avg. Loss: 0.05057158581912517\n",
      "Epoch: 14, Batch: 130, Avg. Loss: 0.05012459438294172\n",
      "Epoch: 14, Batch: 140, Avg. Loss: 0.11699369177222252\n",
      "Epoch: 14, Batch: 150, Avg. Loss: 0.07208746299147606\n",
      "Epoch: 14, Batch: 160, Avg. Loss: 0.04485181458294392\n",
      "Epoch: 14, Batch: 170, Avg. Loss: 0.05276251547038555\n",
      "Epoch: 14, Batch: 180, Avg. Loss: 0.043821399472653864\n",
      "Epoch: 14, Batch: 190, Avg. Loss: 0.08090135529637336\n",
      "Epoch: 14, Batch: 200, Avg. Loss: 0.06512504927814007\n",
      "Epoch: 14, Batch: 210, Avg. Loss: 0.052363434433937074\n",
      "Epoch: 14, Batch: 220, Avg. Loss: 0.08454988058656454\n",
      "Epoch: 14, Batch: 230, Avg. Loss: 0.06585268769413233\n",
      "Epoch: 14, Batch: 240, Avg. Loss: 0.0975999567657709\n",
      "Epoch: 14, Batch: 250, Avg. Loss: 0.05885446909815073\n",
      "Epoch: 14, Batch: 260, Avg. Loss: 0.05565504431724548\n",
      "Epoch: 14, Batch: 270, Avg. Loss: 0.2663165643811226\n",
      "Epoch: 14, Batch: 280, Avg. Loss: 0.04872832652181387\n",
      "Epoch: 14, Batch: 290, Avg. Loss: 0.07766159623861313\n",
      "Epoch: 14, Batch: 300, Avg. Loss: 0.06015874650329352\n",
      "Epoch: 14, Batch: 310, Avg. Loss: 0.046531785279512405\n",
      "Epoch: 14, Batch: 320, Avg. Loss: 0.05887334980070591\n",
      "Epoch: 14, Batch: 330, Avg. Loss: 0.05049318131059408\n",
      "Epoch: 14, Batch: 340, Avg. Loss: 0.06386630218476057\n"
     ]
    },
    {
     "name": "stderr",
     "output_type": "stream",
     "text": [
      "/home/workspace/data_load.py:39: FutureWarning: Method .as_matrix will be removed in a future version. Use .values instead.\n",
      "  key_pts = self.key_pts_frame.iloc[idx, 1:].as_matrix()\n",
      "/home/workspace/data_load.py:39: FutureWarning: Method .as_matrix will be removed in a future version. Use .values instead.\n",
      "  key_pts = self.key_pts_frame.iloc[idx, 1:].as_matrix()\n",
      "/home/workspace/data_load.py:39: FutureWarning: Method .as_matrix will be removed in a future version. Use .values instead.\n",
      "  key_pts = self.key_pts_frame.iloc[idx, 1:].as_matrix()\n",
      "/home/workspace/data_load.py:39: FutureWarning: Method .as_matrix will be removed in a future version. Use .values instead.\n",
      "  key_pts = self.key_pts_frame.iloc[idx, 1:].as_matrix()\n"
     ]
    },
    {
     "name": "stdout",
     "output_type": "stream",
     "text": [
      "Epoch: 15, Batch: 10, Avg. Loss: 0.05866449847817421\n",
      "Epoch: 15, Batch: 20, Avg. Loss: 0.038026919960975646\n",
      "Epoch: 15, Batch: 30, Avg. Loss: 0.05532577261328697\n",
      "Epoch: 15, Batch: 40, Avg. Loss: 0.05427930951118469\n",
      "Epoch: 15, Batch: 50, Avg. Loss: 0.03251456152647734\n",
      "Epoch: 15, Batch: 60, Avg. Loss: 0.03922721762210131\n",
      "Epoch: 15, Batch: 70, Avg. Loss: 0.04085498880594969\n",
      "Epoch: 15, Batch: 80, Avg. Loss: 0.04098744615912438\n",
      "Epoch: 15, Batch: 90, Avg. Loss: 0.20709995329380035\n",
      "Epoch: 15, Batch: 100, Avg. Loss: 0.056902261823415755\n",
      "Epoch: 15, Batch: 110, Avg. Loss: 0.08039415646344424\n",
      "Epoch: 15, Batch: 120, Avg. Loss: 0.09289763532578946\n",
      "Epoch: 15, Batch: 130, Avg. Loss: 0.09227274637669325\n",
      "Epoch: 15, Batch: 140, Avg. Loss: 0.042308218963444236\n",
      "Epoch: 15, Batch: 150, Avg. Loss: 0.05036907028406858\n",
      "Epoch: 15, Batch: 160, Avg. Loss: 0.05973753873258829\n",
      "Epoch: 15, Batch: 170, Avg. Loss: 0.10528179500252008\n",
      "Epoch: 15, Batch: 180, Avg. Loss: 0.07390255406498909\n",
      "Epoch: 15, Batch: 190, Avg. Loss: 0.05918021537363529\n",
      "Epoch: 15, Batch: 200, Avg. Loss: 0.053084300830960274\n",
      "Epoch: 15, Batch: 210, Avg. Loss: 0.0528193823993206\n",
      "Epoch: 15, Batch: 220, Avg. Loss: 0.05551018789410591\n",
      "Epoch: 15, Batch: 230, Avg. Loss: 0.05870209578424692\n",
      "Epoch: 15, Batch: 240, Avg. Loss: 0.07428069207817316\n",
      "Epoch: 15, Batch: 250, Avg. Loss: 0.04191945381462574\n",
      "Epoch: 15, Batch: 260, Avg. Loss: 0.05444818008691073\n",
      "Epoch: 15, Batch: 270, Avg. Loss: 0.06669368408620358\n",
      "Epoch: 15, Batch: 280, Avg. Loss: 0.07474321722984315\n",
      "Epoch: 15, Batch: 290, Avg. Loss: 0.06647596769034862\n",
      "Epoch: 15, Batch: 300, Avg. Loss: 0.0495648518204689\n",
      "Epoch: 15, Batch: 310, Avg. Loss: 0.06637486759573222\n",
      "Epoch: 15, Batch: 320, Avg. Loss: 0.045159677788615224\n",
      "Epoch: 15, Batch: 330, Avg. Loss: 0.06733333673328161\n",
      "Epoch: 15, Batch: 340, Avg. Loss: 0.040755733661353585\n"
     ]
    },
    {
     "name": "stderr",
     "output_type": "stream",
     "text": [
      "/home/workspace/data_load.py:39: FutureWarning: Method .as_matrix will be removed in a future version. Use .values instead.\n",
      "  key_pts = self.key_pts_frame.iloc[idx, 1:].as_matrix()\n",
      "/home/workspace/data_load.py:39: FutureWarning: Method .as_matrix will be removed in a future version. Use .values instead.\n",
      "  key_pts = self.key_pts_frame.iloc[idx, 1:].as_matrix()\n",
      "/home/workspace/data_load.py:39: FutureWarning: Method .as_matrix will be removed in a future version. Use .values instead.\n",
      "  key_pts = self.key_pts_frame.iloc[idx, 1:].as_matrix()\n",
      "/home/workspace/data_load.py:39: FutureWarning: Method .as_matrix will be removed in a future version. Use .values instead.\n",
      "  key_pts = self.key_pts_frame.iloc[idx, 1:].as_matrix()\n"
     ]
    },
    {
     "name": "stdout",
     "output_type": "stream",
     "text": [
      "Epoch: 16, Batch: 10, Avg. Loss: 0.04591322299093008\n",
      "Epoch: 16, Batch: 20, Avg. Loss: 0.040355063416063784\n",
      "Epoch: 16, Batch: 30, Avg. Loss: 0.037495322339236734\n",
      "Epoch: 16, Batch: 40, Avg. Loss: 0.050751981884241106\n",
      "Epoch: 16, Batch: 50, Avg. Loss: 0.04365469999611378\n",
      "Epoch: 16, Batch: 60, Avg. Loss: 0.04357580523937941\n",
      "Epoch: 16, Batch: 70, Avg. Loss: 0.05119218081235886\n",
      "Epoch: 16, Batch: 80, Avg. Loss: 0.04706361424177885\n",
      "Epoch: 16, Batch: 90, Avg. Loss: 0.10859629418700933\n",
      "Epoch: 16, Batch: 100, Avg. Loss: 0.062177032418549064\n",
      "Epoch: 16, Batch: 110, Avg. Loss: 0.11657403353601695\n",
      "Epoch: 16, Batch: 120, Avg. Loss: 0.04313940964639187\n",
      "Epoch: 16, Batch: 130, Avg. Loss: 0.04957745764404535\n",
      "Epoch: 16, Batch: 140, Avg. Loss: 0.07195320632308722\n",
      "Epoch: 16, Batch: 150, Avg. Loss: 0.045496771298348906\n",
      "Epoch: 16, Batch: 160, Avg. Loss: 0.049116265028715134\n",
      "Epoch: 16, Batch: 170, Avg. Loss: 0.0563888356089592\n",
      "Epoch: 16, Batch: 180, Avg. Loss: 0.03342913389205933\n",
      "Epoch: 16, Batch: 190, Avg. Loss: 0.059637903794646265\n",
      "Epoch: 16, Batch: 200, Avg. Loss: 0.04677328858524561\n",
      "Epoch: 16, Batch: 210, Avg. Loss: 0.04730227328836918\n",
      "Epoch: 16, Batch: 220, Avg. Loss: 0.03581708474084735\n",
      "Epoch: 16, Batch: 230, Avg. Loss: 0.06647313721477985\n",
      "Epoch: 16, Batch: 240, Avg. Loss: 0.049839417636394504\n",
      "Epoch: 16, Batch: 250, Avg. Loss: 0.048487570323050025\n",
      "Epoch: 16, Batch: 260, Avg. Loss: 0.06574360691010953\n",
      "Epoch: 16, Batch: 270, Avg. Loss: 0.06764339674264193\n",
      "Epoch: 16, Batch: 280, Avg. Loss: 0.052747919037938115\n",
      "Epoch: 16, Batch: 290, Avg. Loss: 0.09418378286063671\n",
      "Epoch: 16, Batch: 300, Avg. Loss: 0.05263843294233084\n",
      "Epoch: 16, Batch: 310, Avg. Loss: 0.15536973178386687\n",
      "Epoch: 16, Batch: 320, Avg. Loss: 0.041185746900737286\n",
      "Epoch: 16, Batch: 330, Avg. Loss: 0.04109690487384796\n",
      "Epoch: 16, Batch: 340, Avg. Loss: 0.04691433496773243\n"
     ]
    },
    {
     "name": "stderr",
     "output_type": "stream",
     "text": [
      "/home/workspace/data_load.py:39: FutureWarning: Method .as_matrix will be removed in a future version. Use .values instead.\n",
      "  key_pts = self.key_pts_frame.iloc[idx, 1:].as_matrix()\n",
      "/home/workspace/data_load.py:39: FutureWarning: Method .as_matrix will be removed in a future version. Use .values instead.\n",
      "  key_pts = self.key_pts_frame.iloc[idx, 1:].as_matrix()\n",
      "/home/workspace/data_load.py:39: FutureWarning: Method .as_matrix will be removed in a future version. Use .values instead.\n",
      "  key_pts = self.key_pts_frame.iloc[idx, 1:].as_matrix()\n",
      "/home/workspace/data_load.py:39: FutureWarning: Method .as_matrix will be removed in a future version. Use .values instead.\n",
      "  key_pts = self.key_pts_frame.iloc[idx, 1:].as_matrix()\n"
     ]
    },
    {
     "name": "stdout",
     "output_type": "stream",
     "text": [
      "Epoch: 17, Batch: 10, Avg. Loss: 0.05301730651408434\n",
      "Epoch: 17, Batch: 20, Avg. Loss: 0.07043123580515384\n",
      "Epoch: 17, Batch: 30, Avg. Loss: 0.04855339378118515\n",
      "Epoch: 17, Batch: 40, Avg. Loss: 0.04412479978054762\n",
      "Epoch: 17, Batch: 50, Avg. Loss: 0.060078194923698904\n",
      "Epoch: 17, Batch: 60, Avg. Loss: 0.06408247258514166\n",
      "Epoch: 17, Batch: 70, Avg. Loss: 0.04613306894898415\n",
      "Epoch: 17, Batch: 80, Avg. Loss: 0.044447993487119676\n",
      "Epoch: 17, Batch: 90, Avg. Loss: 0.07256522458046674\n",
      "Epoch: 17, Batch: 100, Avg. Loss: 0.040784417651593685\n",
      "Epoch: 17, Batch: 110, Avg. Loss: 0.08947826586663724\n",
      "Epoch: 17, Batch: 120, Avg. Loss: 0.06821015626192092\n",
      "Epoch: 17, Batch: 130, Avg. Loss: 0.03734666798263788\n",
      "Epoch: 17, Batch: 140, Avg. Loss: 0.04868705421686172\n",
      "Epoch: 17, Batch: 150, Avg. Loss: 0.04438958987593651\n",
      "Epoch: 17, Batch: 160, Avg. Loss: 0.04185107387602329\n",
      "Epoch: 17, Batch: 170, Avg. Loss: 0.22523120902478694\n",
      "Epoch: 17, Batch: 180, Avg. Loss: 0.04845564812421799\n",
      "Epoch: 17, Batch: 190, Avg. Loss: 0.06311357840895652\n",
      "Epoch: 17, Batch: 200, Avg. Loss: 0.08190798740833997\n",
      "Epoch: 17, Batch: 210, Avg. Loss: 0.0547887010499835\n",
      "Epoch: 17, Batch: 220, Avg. Loss: 0.03922046944499016\n",
      "Epoch: 17, Batch: 230, Avg. Loss: 0.08590757958590985\n",
      "Epoch: 17, Batch: 240, Avg. Loss: 0.07095100209116936\n",
      "Epoch: 17, Batch: 250, Avg. Loss: 0.04623954873532057\n",
      "Epoch: 17, Batch: 260, Avg. Loss: 0.04668144453316927\n",
      "Epoch: 17, Batch: 270, Avg. Loss: 0.04212806839495897\n",
      "Epoch: 17, Batch: 280, Avg. Loss: 0.04412771556526422\n",
      "Epoch: 17, Batch: 290, Avg. Loss: 0.0720726016908884\n",
      "Epoch: 17, Batch: 300, Avg. Loss: 0.04616907238960266\n",
      "Epoch: 17, Batch: 310, Avg. Loss: 0.04120226092636585\n",
      "Epoch: 17, Batch: 320, Avg. Loss: 0.05622519049793482\n",
      "Epoch: 17, Batch: 330, Avg. Loss: 0.05879021007567644\n",
      "Epoch: 17, Batch: 340, Avg. Loss: 0.0512472515925765\n"
     ]
    },
    {
     "name": "stderr",
     "output_type": "stream",
     "text": [
      "/home/workspace/data_load.py:39: FutureWarning: Method .as_matrix will be removed in a future version. Use .values instead.\n",
      "  key_pts = self.key_pts_frame.iloc[idx, 1:].as_matrix()\n",
      "/home/workspace/data_load.py:39: FutureWarning: Method .as_matrix will be removed in a future version. Use .values instead.\n",
      "  key_pts = self.key_pts_frame.iloc[idx, 1:].as_matrix()\n",
      "/home/workspace/data_load.py:39: FutureWarning: Method .as_matrix will be removed in a future version. Use .values instead.\n",
      "  key_pts = self.key_pts_frame.iloc[idx, 1:].as_matrix()\n",
      "/home/workspace/data_load.py:39: FutureWarning: Method .as_matrix will be removed in a future version. Use .values instead.\n",
      "  key_pts = self.key_pts_frame.iloc[idx, 1:].as_matrix()\n"
     ]
    },
    {
     "name": "stdout",
     "output_type": "stream",
     "text": [
      "Epoch: 18, Batch: 10, Avg. Loss: 0.04426772724837065\n",
      "Epoch: 18, Batch: 20, Avg. Loss: 0.050204722210764885\n",
      "Epoch: 18, Batch: 30, Avg. Loss: 0.07787599861621856\n",
      "Epoch: 18, Batch: 40, Avg. Loss: 0.058526312187314036\n",
      "Epoch: 18, Batch: 50, Avg. Loss: 0.054897497221827504\n",
      "Epoch: 18, Batch: 60, Avg. Loss: 0.03407382052391768\n",
      "Epoch: 18, Batch: 70, Avg. Loss: 0.03689365200698376\n",
      "Epoch: 18, Batch: 80, Avg. Loss: 0.04465324990451336\n",
      "Epoch: 18, Batch: 90, Avg. Loss: 0.04351949989795685\n",
      "Epoch: 18, Batch: 100, Avg. Loss: 0.03742173723876476\n",
      "Epoch: 18, Batch: 110, Avg. Loss: 0.035524108074605466\n",
      "Epoch: 18, Batch: 120, Avg. Loss: 0.0583761852234602\n",
      "Epoch: 18, Batch: 130, Avg. Loss: 0.04197500497102737\n",
      "Epoch: 18, Batch: 140, Avg. Loss: 0.038643525540828706\n",
      "Epoch: 18, Batch: 150, Avg. Loss: 0.03923945445567369\n",
      "Epoch: 18, Batch: 160, Avg. Loss: 0.03327525742352009\n",
      "Epoch: 18, Batch: 170, Avg. Loss: 0.07257976513355971\n",
      "Epoch: 18, Batch: 180, Avg. Loss: 0.05074020568281412\n",
      "Epoch: 18, Batch: 190, Avg. Loss: 0.04889871161431074\n",
      "Epoch: 18, Batch: 200, Avg. Loss: 0.04479384683072567\n",
      "Epoch: 18, Batch: 210, Avg. Loss: 0.06647912338376046\n",
      "Epoch: 18, Batch: 220, Avg. Loss: 0.03507553488016128\n",
      "Epoch: 18, Batch: 230, Avg. Loss: 0.047574146650731564\n",
      "Epoch: 18, Batch: 240, Avg. Loss: 0.05313350968062878\n",
      "Epoch: 18, Batch: 250, Avg. Loss: 0.04504891037940979\n",
      "Epoch: 18, Batch: 260, Avg. Loss: 0.046767078898847105\n",
      "Epoch: 18, Batch: 270, Avg. Loss: 0.06548332702368498\n",
      "Epoch: 18, Batch: 280, Avg. Loss: 0.03953465912491083\n",
      "Epoch: 18, Batch: 290, Avg. Loss: 0.05694683846086264\n",
      "Epoch: 18, Batch: 300, Avg. Loss: 0.04376913551241159\n",
      "Epoch: 18, Batch: 310, Avg. Loss: 0.0927598912268877\n",
      "Epoch: 18, Batch: 320, Avg. Loss: 0.044114339910447595\n",
      "Epoch: 18, Batch: 330, Avg. Loss: 0.036696085892617705\n",
      "Epoch: 18, Batch: 340, Avg. Loss: 0.06957988478243352\n"
     ]
    },
    {
     "name": "stderr",
     "output_type": "stream",
     "text": [
      "/home/workspace/data_load.py:39: FutureWarning: Method .as_matrix will be removed in a future version. Use .values instead.\n",
      "  key_pts = self.key_pts_frame.iloc[idx, 1:].as_matrix()\n",
      "/home/workspace/data_load.py:39: FutureWarning: Method .as_matrix will be removed in a future version. Use .values instead.\n",
      "  key_pts = self.key_pts_frame.iloc[idx, 1:].as_matrix()\n",
      "/home/workspace/data_load.py:39: FutureWarning: Method .as_matrix will be removed in a future version. Use .values instead.\n",
      "  key_pts = self.key_pts_frame.iloc[idx, 1:].as_matrix()\n",
      "/home/workspace/data_load.py:39: FutureWarning: Method .as_matrix will be removed in a future version. Use .values instead.\n",
      "  key_pts = self.key_pts_frame.iloc[idx, 1:].as_matrix()\n"
     ]
    },
    {
     "name": "stdout",
     "output_type": "stream",
     "text": [
      "Epoch: 19, Batch: 10, Avg. Loss: 0.049869565106928346\n",
      "Epoch: 19, Batch: 20, Avg. Loss: 0.06416495982557535\n",
      "Epoch: 19, Batch: 30, Avg. Loss: 0.057629852741956714\n",
      "Epoch: 19, Batch: 40, Avg. Loss: 0.040435143560171125\n",
      "Epoch: 19, Batch: 50, Avg. Loss: 0.06078314278274775\n",
      "Epoch: 19, Batch: 60, Avg. Loss: 0.0389383640140295\n",
      "Epoch: 19, Batch: 70, Avg. Loss: 0.04490037560462952\n",
      "Epoch: 19, Batch: 80, Avg. Loss: 0.048850680328905584\n",
      "Epoch: 19, Batch: 90, Avg. Loss: 0.0522558905184269\n",
      "Epoch: 19, Batch: 100, Avg. Loss: 0.05659109763801098\n",
      "Epoch: 19, Batch: 110, Avg. Loss: 0.04599827695637941\n",
      "Epoch: 19, Batch: 120, Avg. Loss: 0.07612550407648086\n",
      "Epoch: 19, Batch: 130, Avg. Loss: 0.05367579534649849\n",
      "Epoch: 19, Batch: 140, Avg. Loss: 0.039732218347489835\n",
      "Epoch: 19, Batch: 150, Avg. Loss: 0.06619712114334106\n",
      "Epoch: 19, Batch: 160, Avg. Loss: 0.052824320085346696\n",
      "Epoch: 19, Batch: 170, Avg. Loss: 0.04373737275600433\n",
      "Epoch: 19, Batch: 180, Avg. Loss: 0.06292759571224452\n",
      "Epoch: 19, Batch: 190, Avg. Loss: 0.03894521351903677\n",
      "Epoch: 19, Batch: 200, Avg. Loss: 0.04319527018815279\n",
      "Epoch: 19, Batch: 210, Avg. Loss: 0.06913646496832371\n",
      "Epoch: 19, Batch: 220, Avg. Loss: 0.05595130510628223\n",
      "Epoch: 19, Batch: 230, Avg. Loss: 0.035518741607666014\n",
      "Epoch: 19, Batch: 240, Avg. Loss: 0.03885982353240251\n",
      "Epoch: 19, Batch: 250, Avg. Loss: 0.03721069153398275\n",
      "Epoch: 19, Batch: 260, Avg. Loss: 0.12042375020682812\n",
      "Epoch: 19, Batch: 270, Avg. Loss: 0.17630714718252422\n",
      "Epoch: 19, Batch: 280, Avg. Loss: 0.03995190653949976\n",
      "Epoch: 19, Batch: 290, Avg. Loss: 0.05458967685699463\n",
      "Epoch: 19, Batch: 300, Avg. Loss: 0.03944920189678669\n",
      "Epoch: 19, Batch: 310, Avg. Loss: 0.05283899623900652\n",
      "Epoch: 19, Batch: 320, Avg. Loss: 0.045449410937726496\n",
      "Epoch: 19, Batch: 330, Avg. Loss: 0.07764808796346187\n",
      "Epoch: 19, Batch: 340, Avg. Loss: 0.04606202859431505\n"
     ]
    },
    {
     "name": "stderr",
     "output_type": "stream",
     "text": [
      "/home/workspace/data_load.py:39: FutureWarning: Method .as_matrix will be removed in a future version. Use .values instead.\n",
      "  key_pts = self.key_pts_frame.iloc[idx, 1:].as_matrix()\n",
      "/home/workspace/data_load.py:39: FutureWarning: Method .as_matrix will be removed in a future version. Use .values instead.\n",
      "  key_pts = self.key_pts_frame.iloc[idx, 1:].as_matrix()\n",
      "/home/workspace/data_load.py:39: FutureWarning: Method .as_matrix will be removed in a future version. Use .values instead.\n",
      "  key_pts = self.key_pts_frame.iloc[idx, 1:].as_matrix()\n",
      "/home/workspace/data_load.py:39: FutureWarning: Method .as_matrix will be removed in a future version. Use .values instead.\n",
      "  key_pts = self.key_pts_frame.iloc[idx, 1:].as_matrix()\n"
     ]
    },
    {
     "name": "stdout",
     "output_type": "stream",
     "text": [
      "Epoch: 20, Batch: 10, Avg. Loss: 0.05186803601682186\n",
      "Epoch: 20, Batch: 20, Avg. Loss: 0.04890203364193439\n",
      "Epoch: 20, Batch: 30, Avg. Loss: 0.037162041664123534\n",
      "Epoch: 20, Batch: 40, Avg. Loss: 0.04022201206535101\n",
      "Epoch: 20, Batch: 50, Avg. Loss: 0.09315137006342411\n",
      "Epoch: 20, Batch: 60, Avg. Loss: 0.05549254380166531\n",
      "Epoch: 20, Batch: 70, Avg. Loss: 0.03754079882055521\n",
      "Epoch: 20, Batch: 80, Avg. Loss: 0.06504722405225039\n",
      "Epoch: 20, Batch: 90, Avg. Loss: 0.0535010039806366\n",
      "Epoch: 20, Batch: 100, Avg. Loss: 0.0445883858948946\n",
      "Epoch: 20, Batch: 110, Avg. Loss: 0.037103623151779175\n",
      "Epoch: 20, Batch: 120, Avg. Loss: 0.040022071450948715\n",
      "Epoch: 20, Batch: 130, Avg. Loss: 0.04316873848438263\n",
      "Epoch: 20, Batch: 140, Avg. Loss: 0.11417092829942703\n",
      "Epoch: 20, Batch: 150, Avg. Loss: 0.06828599255532027\n",
      "Epoch: 20, Batch: 160, Avg. Loss: 0.11261950358748436\n",
      "Epoch: 20, Batch: 170, Avg. Loss: 0.03808254580944777\n",
      "Epoch: 20, Batch: 180, Avg. Loss: 0.0358482476323843\n",
      "Epoch: 20, Batch: 190, Avg. Loss: 0.05194975472986698\n",
      "Epoch: 20, Batch: 200, Avg. Loss: 0.04031495228409767\n",
      "Epoch: 20, Batch: 210, Avg. Loss: 0.07787431441247464\n",
      "Epoch: 20, Batch: 220, Avg. Loss: 0.054086900502443316\n",
      "Epoch: 20, Batch: 230, Avg. Loss: 0.037944669090211394\n",
      "Epoch: 20, Batch: 240, Avg. Loss: 0.05237939096987247\n",
      "Epoch: 20, Batch: 250, Avg. Loss: 0.03536286856979132\n",
      "Epoch: 20, Batch: 260, Avg. Loss: 0.04976248499006033\n",
      "Epoch: 20, Batch: 270, Avg. Loss: 0.061465701460838316\n",
      "Epoch: 20, Batch: 280, Avg. Loss: 0.044733785837888715\n",
      "Epoch: 20, Batch: 290, Avg. Loss: 0.03480710834264755\n",
      "Epoch: 20, Batch: 300, Avg. Loss: 0.04233828764408827\n",
      "Epoch: 20, Batch: 310, Avg. Loss: 0.04657379016280174\n",
      "Epoch: 20, Batch: 320, Avg. Loss: 0.06666770577430725\n",
      "Epoch: 20, Batch: 330, Avg. Loss: 0.04982106480747461\n",
      "Epoch: 20, Batch: 340, Avg. Loss: 0.07782899141311646\n"
     ]
    },
    {
     "name": "stderr",
     "output_type": "stream",
     "text": [
      "/home/workspace/data_load.py:39: FutureWarning: Method .as_matrix will be removed in a future version. Use .values instead.\n",
      "  key_pts = self.key_pts_frame.iloc[idx, 1:].as_matrix()\n",
      "/home/workspace/data_load.py:39: FutureWarning: Method .as_matrix will be removed in a future version. Use .values instead.\n",
      "  key_pts = self.key_pts_frame.iloc[idx, 1:].as_matrix()\n",
      "/home/workspace/data_load.py:39: FutureWarning: Method .as_matrix will be removed in a future version. Use .values instead.\n",
      "  key_pts = self.key_pts_frame.iloc[idx, 1:].as_matrix()\n",
      "/home/workspace/data_load.py:39: FutureWarning: Method .as_matrix will be removed in a future version. Use .values instead.\n",
      "  key_pts = self.key_pts_frame.iloc[idx, 1:].as_matrix()\n"
     ]
    },
    {
     "name": "stdout",
     "output_type": "stream",
     "text": [
      "Epoch: 21, Batch: 10, Avg. Loss: 0.041099403612315656\n",
      "Epoch: 21, Batch: 20, Avg. Loss: 0.04646610375493765\n",
      "Epoch: 21, Batch: 30, Avg. Loss: 0.05139849055558443\n",
      "Epoch: 21, Batch: 40, Avg. Loss: 0.15622111540287734\n",
      "Epoch: 21, Batch: 50, Avg. Loss: 0.04760701060295105\n",
      "Epoch: 21, Batch: 60, Avg. Loss: 0.043309306353330614\n",
      "Epoch: 21, Batch: 70, Avg. Loss: 0.04305002111941576\n",
      "Epoch: 21, Batch: 80, Avg. Loss: 0.04369937647134066\n",
      "Epoch: 21, Batch: 90, Avg. Loss: 0.06574689708650112\n",
      "Epoch: 21, Batch: 100, Avg. Loss: 0.043635440059006214\n",
      "Epoch: 21, Batch: 110, Avg. Loss: 0.052537121996283534\n",
      "Epoch: 21, Batch: 120, Avg. Loss: 0.0533062856644392\n",
      "Epoch: 21, Batch: 130, Avg. Loss: 0.03235716316848993\n",
      "Epoch: 21, Batch: 140, Avg. Loss: 0.03954160697758198\n",
      "Epoch: 21, Batch: 150, Avg. Loss: 0.04758834801614285\n",
      "Epoch: 21, Batch: 160, Avg. Loss: 0.20671393387019635\n",
      "Epoch: 21, Batch: 170, Avg. Loss: 0.05787622351199388\n",
      "Epoch: 21, Batch: 180, Avg. Loss: 0.08133921734988689\n",
      "Epoch: 21, Batch: 190, Avg. Loss: 0.04268356915563345\n",
      "Epoch: 21, Batch: 200, Avg. Loss: 0.04250797238200903\n",
      "Epoch: 21, Batch: 210, Avg. Loss: 0.047915379703044894\n",
      "Epoch: 21, Batch: 220, Avg. Loss: 0.04346265271306038\n",
      "Epoch: 21, Batch: 230, Avg. Loss: 0.04552346915006637\n",
      "Epoch: 21, Batch: 240, Avg. Loss: 0.06366790793836116\n",
      "Epoch: 21, Batch: 250, Avg. Loss: 0.03665327150374651\n",
      "Epoch: 21, Batch: 260, Avg. Loss: 0.0421615120023489\n",
      "Epoch: 21, Batch: 270, Avg. Loss: 0.03658517934381962\n",
      "Epoch: 21, Batch: 280, Avg. Loss: 0.04298463799059391\n",
      "Epoch: 21, Batch: 290, Avg. Loss: 0.0494273329153657\n",
      "Epoch: 21, Batch: 300, Avg. Loss: 0.06758591830730439\n",
      "Epoch: 21, Batch: 310, Avg. Loss: 0.03856084067374468\n",
      "Epoch: 21, Batch: 320, Avg. Loss: 0.05505086611956358\n",
      "Epoch: 21, Batch: 330, Avg. Loss: 0.03925506621599197\n",
      "Epoch: 21, Batch: 340, Avg. Loss: 0.03910472821444273\n"
     ]
    },
    {
     "name": "stderr",
     "output_type": "stream",
     "text": [
      "/home/workspace/data_load.py:39: FutureWarning: Method .as_matrix will be removed in a future version. Use .values instead.\n",
      "  key_pts = self.key_pts_frame.iloc[idx, 1:].as_matrix()\n",
      "/home/workspace/data_load.py:39: FutureWarning: Method .as_matrix will be removed in a future version. Use .values instead.\n",
      "  key_pts = self.key_pts_frame.iloc[idx, 1:].as_matrix()\n",
      "/home/workspace/data_load.py:39: FutureWarning: Method .as_matrix will be removed in a future version. Use .values instead.\n",
      "  key_pts = self.key_pts_frame.iloc[idx, 1:].as_matrix()\n",
      "/home/workspace/data_load.py:39: FutureWarning: Method .as_matrix will be removed in a future version. Use .values instead.\n",
      "  key_pts = self.key_pts_frame.iloc[idx, 1:].as_matrix()\n"
     ]
    },
    {
     "name": "stdout",
     "output_type": "stream",
     "text": [
      "Epoch: 22, Batch: 10, Avg. Loss: 0.08727656658738851\n",
      "Epoch: 22, Batch: 20, Avg. Loss: 0.04252687450498342\n",
      "Epoch: 22, Batch: 30, Avg. Loss: 0.040528591722249985\n",
      "Epoch: 22, Batch: 40, Avg. Loss: 0.03964838534593582\n",
      "Epoch: 22, Batch: 50, Avg. Loss: 0.04867039639502764\n",
      "Epoch: 22, Batch: 60, Avg. Loss: 0.1358675764873624\n",
      "Epoch: 22, Batch: 70, Avg. Loss: 0.054826900083571675\n",
      "Epoch: 22, Batch: 80, Avg. Loss: 0.04002543780952692\n",
      "Epoch: 22, Batch: 90, Avg. Loss: 0.056969089061021806\n",
      "Epoch: 22, Batch: 100, Avg. Loss: 0.03715525325387716\n",
      "Epoch: 22, Batch: 110, Avg. Loss: 0.05216880347579718\n",
      "Epoch: 22, Batch: 120, Avg. Loss: 0.07022510543465614\n",
      "Epoch: 22, Batch: 130, Avg. Loss: 0.03838296439498663\n",
      "Epoch: 22, Batch: 140, Avg. Loss: 0.08564483448863029\n",
      "Epoch: 22, Batch: 150, Avg. Loss: 0.0467315461486578\n",
      "Epoch: 22, Batch: 160, Avg. Loss: 0.03440663777291775\n",
      "Epoch: 22, Batch: 170, Avg. Loss: 0.0305717209354043\n",
      "Epoch: 22, Batch: 180, Avg. Loss: 0.04018778763711452\n",
      "Epoch: 22, Batch: 190, Avg. Loss: 0.03138807844370604\n",
      "Epoch: 22, Batch: 200, Avg. Loss: 0.032596944645047185\n",
      "Epoch: 22, Batch: 210, Avg. Loss: 0.0652058394625783\n",
      "Epoch: 22, Batch: 220, Avg. Loss: 0.029910953901708125\n",
      "Epoch: 22, Batch: 230, Avg. Loss: 0.03195121008902788\n",
      "Epoch: 22, Batch: 240, Avg. Loss: 0.06696596089750528\n",
      "Epoch: 22, Batch: 250, Avg. Loss: 0.04199701156467199\n",
      "Epoch: 22, Batch: 260, Avg. Loss: 0.03787194602191448\n",
      "Epoch: 22, Batch: 270, Avg. Loss: 0.03879349641501904\n",
      "Epoch: 22, Batch: 280, Avg. Loss: 0.044854465685784814\n",
      "Epoch: 22, Batch: 290, Avg. Loss: 0.03915844988077879\n",
      "Epoch: 22, Batch: 300, Avg. Loss: 0.03708148263394832\n",
      "Epoch: 22, Batch: 310, Avg. Loss: 0.049852506071329114\n",
      "Epoch: 22, Batch: 320, Avg. Loss: 0.0455025102943182\n",
      "Epoch: 22, Batch: 330, Avg. Loss: 0.045773760229349134\n",
      "Epoch: 22, Batch: 340, Avg. Loss: 0.10112675968557597\n"
     ]
    },
    {
     "name": "stderr",
     "output_type": "stream",
     "text": [
      "/home/workspace/data_load.py:39: FutureWarning: Method .as_matrix will be removed in a future version. Use .values instead.\n",
      "  key_pts = self.key_pts_frame.iloc[idx, 1:].as_matrix()\n",
      "/home/workspace/data_load.py:39: FutureWarning: Method .as_matrix will be removed in a future version. Use .values instead.\n",
      "  key_pts = self.key_pts_frame.iloc[idx, 1:].as_matrix()\n",
      "/home/workspace/data_load.py:39: FutureWarning: Method .as_matrix will be removed in a future version. Use .values instead.\n",
      "  key_pts = self.key_pts_frame.iloc[idx, 1:].as_matrix()\n",
      "/home/workspace/data_load.py:39: FutureWarning: Method .as_matrix will be removed in a future version. Use .values instead.\n",
      "  key_pts = self.key_pts_frame.iloc[idx, 1:].as_matrix()\n"
     ]
    },
    {
     "name": "stdout",
     "output_type": "stream",
     "text": [
      "Epoch: 23, Batch: 10, Avg. Loss: 0.04200294073671103\n",
      "Epoch: 23, Batch: 20, Avg. Loss: 0.03132075499743223\n",
      "Epoch: 23, Batch: 30, Avg. Loss: 0.05732240807265043\n",
      "Epoch: 23, Batch: 40, Avg. Loss: 0.038853414542973044\n",
      "Epoch: 23, Batch: 50, Avg. Loss: 0.037293003499507905\n",
      "Epoch: 23, Batch: 60, Avg. Loss: 0.029111060313880444\n",
      "Epoch: 23, Batch: 70, Avg. Loss: 0.04882730394601822\n",
      "Epoch: 23, Batch: 80, Avg. Loss: 0.03224642369896173\n",
      "Epoch: 23, Batch: 90, Avg. Loss: 0.05923674087971449\n",
      "Epoch: 23, Batch: 100, Avg. Loss: 0.08978851158171892\n",
      "Epoch: 23, Batch: 110, Avg. Loss: 0.07436471953988075\n",
      "Epoch: 23, Batch: 120, Avg. Loss: 0.03828349132090807\n",
      "Epoch: 23, Batch: 130, Avg. Loss: 0.04357495177537203\n",
      "Epoch: 23, Batch: 140, Avg. Loss: 0.037480248138308525\n",
      "Epoch: 23, Batch: 150, Avg. Loss: 0.0396841861307621\n",
      "Epoch: 23, Batch: 160, Avg. Loss: 0.032267413660883905\n",
      "Epoch: 23, Batch: 170, Avg. Loss: 0.0705938769504428\n",
      "Epoch: 23, Batch: 180, Avg. Loss: 0.05631592851132154\n",
      "Epoch: 23, Batch: 190, Avg. Loss: 0.057577296532690524\n",
      "Epoch: 23, Batch: 200, Avg. Loss: 0.029972263798117637\n",
      "Epoch: 23, Batch: 210, Avg. Loss: 0.039474635198712346\n",
      "Epoch: 23, Batch: 220, Avg. Loss: 0.03233967870473862\n",
      "Epoch: 23, Batch: 230, Avg. Loss: 0.03210209123790264\n",
      "Epoch: 23, Batch: 240, Avg. Loss: 0.03539518378674984\n",
      "Epoch: 23, Batch: 250, Avg. Loss: 0.02896107081323862\n",
      "Epoch: 23, Batch: 260, Avg. Loss: 0.06981549765914678\n",
      "Epoch: 23, Batch: 270, Avg. Loss: 0.07766360547393561\n",
      "Epoch: 23, Batch: 280, Avg. Loss: 0.03875512657687068\n",
      "Epoch: 23, Batch: 290, Avg. Loss: 0.05265429187566042\n",
      "Epoch: 23, Batch: 300, Avg. Loss: 0.04782531559467316\n",
      "Epoch: 23, Batch: 310, Avg. Loss: 0.03274005819112062\n",
      "Epoch: 23, Batch: 320, Avg. Loss: 0.04739243611693382\n",
      "Epoch: 23, Batch: 330, Avg. Loss: 0.03759988620877266\n",
      "Epoch: 23, Batch: 340, Avg. Loss: 0.03378131724894047\n"
     ]
    },
    {
     "name": "stderr",
     "output_type": "stream",
     "text": [
      "/home/workspace/data_load.py:39: FutureWarning: Method .as_matrix will be removed in a future version. Use .values instead.\n",
      "  key_pts = self.key_pts_frame.iloc[idx, 1:].as_matrix()\n",
      "/home/workspace/data_load.py:39: FutureWarning: Method .as_matrix will be removed in a future version. Use .values instead.\n",
      "  key_pts = self.key_pts_frame.iloc[idx, 1:].as_matrix()\n",
      "/home/workspace/data_load.py:39: FutureWarning: Method .as_matrix will be removed in a future version. Use .values instead.\n",
      "  key_pts = self.key_pts_frame.iloc[idx, 1:].as_matrix()\n",
      "/home/workspace/data_load.py:39: FutureWarning: Method .as_matrix will be removed in a future version. Use .values instead.\n",
      "  key_pts = self.key_pts_frame.iloc[idx, 1:].as_matrix()\n"
     ]
    },
    {
     "name": "stdout",
     "output_type": "stream",
     "text": [
      "Epoch: 24, Batch: 10, Avg. Loss: 0.04516402594745159\n",
      "Epoch: 24, Batch: 20, Avg. Loss: 0.038074635341763495\n",
      "Epoch: 24, Batch: 30, Avg. Loss: 0.06127996481955052\n",
      "Epoch: 24, Batch: 40, Avg. Loss: 0.06085292082279921\n",
      "Epoch: 24, Batch: 50, Avg. Loss: 0.03216743003576994\n",
      "Epoch: 24, Batch: 60, Avg. Loss: 0.04018076211214065\n",
      "Epoch: 24, Batch: 70, Avg. Loss: 0.21475554592907428\n",
      "Epoch: 24, Batch: 80, Avg. Loss: 0.13017682880163192\n",
      "Epoch: 24, Batch: 90, Avg. Loss: 0.03908714782446623\n",
      "Epoch: 24, Batch: 100, Avg. Loss: 0.08267152607440949\n",
      "Epoch: 24, Batch: 110, Avg. Loss: 0.059213655069470406\n",
      "Epoch: 24, Batch: 120, Avg. Loss: 0.033504697121679784\n",
      "Epoch: 24, Batch: 130, Avg. Loss: 0.049474829249083994\n",
      "Epoch: 24, Batch: 140, Avg. Loss: 0.04584674946963787\n",
      "Epoch: 24, Batch: 150, Avg. Loss: 0.039884617924690245\n",
      "Epoch: 24, Batch: 160, Avg. Loss: 0.0345927806571126\n",
      "Epoch: 24, Batch: 170, Avg. Loss: 0.024736346490681172\n",
      "Epoch: 24, Batch: 180, Avg. Loss: 0.05135291460901499\n",
      "Epoch: 24, Batch: 190, Avg. Loss: 0.046640122681856154\n",
      "Epoch: 24, Batch: 200, Avg. Loss: 0.06873099971562624\n",
      "Epoch: 24, Batch: 210, Avg. Loss: 0.044763320311903956\n",
      "Epoch: 24, Batch: 220, Avg. Loss: 0.039383893832564354\n",
      "Epoch: 24, Batch: 230, Avg. Loss: 0.033167915605008605\n",
      "Epoch: 24, Batch: 240, Avg. Loss: 0.03670203667134046\n",
      "Epoch: 24, Batch: 250, Avg. Loss: 0.036358574591577056\n",
      "Epoch: 24, Batch: 260, Avg. Loss: 0.04282917380332947\n",
      "Epoch: 24, Batch: 270, Avg. Loss: 0.06234603486955166\n",
      "Epoch: 24, Batch: 280, Avg. Loss: 0.03074997030198574\n",
      "Epoch: 24, Batch: 290, Avg. Loss: 0.043971475958824155\n",
      "Epoch: 24, Batch: 300, Avg. Loss: 0.037758487090468404\n",
      "Epoch: 24, Batch: 310, Avg. Loss: 0.11951137725263834\n",
      "Epoch: 24, Batch: 320, Avg. Loss: 0.05898296814411878\n",
      "Epoch: 24, Batch: 330, Avg. Loss: 0.03381604887545109\n",
      "Epoch: 24, Batch: 340, Avg. Loss: 0.033945908211171626\n"
     ]
    },
    {
     "name": "stderr",
     "output_type": "stream",
     "text": [
      "/home/workspace/data_load.py:39: FutureWarning: Method .as_matrix will be removed in a future version. Use .values instead.\n",
      "  key_pts = self.key_pts_frame.iloc[idx, 1:].as_matrix()\n",
      "/home/workspace/data_load.py:39: FutureWarning: Method .as_matrix will be removed in a future version. Use .values instead.\n",
      "  key_pts = self.key_pts_frame.iloc[idx, 1:].as_matrix()\n",
      "/home/workspace/data_load.py:39: FutureWarning: Method .as_matrix will be removed in a future version. Use .values instead.\n",
      "  key_pts = self.key_pts_frame.iloc[idx, 1:].as_matrix()\n",
      "/home/workspace/data_load.py:39: FutureWarning: Method .as_matrix will be removed in a future version. Use .values instead.\n",
      "  key_pts = self.key_pts_frame.iloc[idx, 1:].as_matrix()\n"
     ]
    },
    {
     "name": "stdout",
     "output_type": "stream",
     "text": [
      "Epoch: 25, Batch: 10, Avg. Loss: 0.16068802177906036\n",
      "Epoch: 25, Batch: 20, Avg. Loss: 0.03457521721720695\n",
      "Epoch: 25, Batch: 30, Avg. Loss: 0.03708240333944559\n",
      "Epoch: 25, Batch: 40, Avg. Loss: 0.06906233727931976\n",
      "Epoch: 25, Batch: 50, Avg. Loss: 0.03521616831421852\n",
      "Epoch: 25, Batch: 60, Avg. Loss: 0.037933788262307644\n",
      "Epoch: 25, Batch: 70, Avg. Loss: 0.048842424713075164\n",
      "Epoch: 25, Batch: 80, Avg. Loss: 0.03248225580900908\n",
      "Epoch: 25, Batch: 90, Avg. Loss: 0.03815469034016132\n",
      "Epoch: 25, Batch: 100, Avg. Loss: 0.046864642575383184\n",
      "Epoch: 25, Batch: 110, Avg. Loss: 0.06741743814200163\n",
      "Epoch: 25, Batch: 120, Avg. Loss: 0.07996738962829113\n",
      "Epoch: 25, Batch: 130, Avg. Loss: 0.033365375362336636\n",
      "Epoch: 25, Batch: 140, Avg. Loss: 0.03795878682285547\n",
      "Epoch: 25, Batch: 150, Avg. Loss: 0.04600441232323647\n",
      "Epoch: 25, Batch: 160, Avg. Loss: 0.03746228814125061\n",
      "Epoch: 25, Batch: 170, Avg. Loss: 0.03073999211192131\n",
      "Epoch: 25, Batch: 180, Avg. Loss: 0.04428746737539768\n",
      "Epoch: 25, Batch: 190, Avg. Loss: 0.04146891515702009\n",
      "Epoch: 25, Batch: 200, Avg. Loss: 0.08788927663117647\n",
      "Epoch: 25, Batch: 210, Avg. Loss: 0.04547245781868696\n",
      "Epoch: 25, Batch: 220, Avg. Loss: 0.03618048597127199\n",
      "Epoch: 25, Batch: 230, Avg. Loss: 0.04471009578555822\n",
      "Epoch: 25, Batch: 240, Avg. Loss: 0.033176193945109844\n",
      "Epoch: 25, Batch: 250, Avg. Loss: 0.03702166154980659\n",
      "Epoch: 25, Batch: 260, Avg. Loss: 0.25083456113934516\n",
      "Epoch: 25, Batch: 270, Avg. Loss: 0.06010709945112467\n",
      "Epoch: 25, Batch: 280, Avg. Loss: 0.04742125011980534\n",
      "Epoch: 25, Batch: 290, Avg. Loss: 0.05309189409017563\n",
      "Epoch: 25, Batch: 300, Avg. Loss: 0.10464710090309381\n",
      "Epoch: 25, Batch: 310, Avg. Loss: 0.04663861282169819\n",
      "Epoch: 25, Batch: 320, Avg. Loss: 0.046104527078568935\n",
      "Epoch: 25, Batch: 330, Avg. Loss: 0.040718465484678744\n",
      "Epoch: 25, Batch: 340, Avg. Loss: 0.03960304521024227\n"
     ]
    },
    {
     "name": "stderr",
     "output_type": "stream",
     "text": [
      "/home/workspace/data_load.py:39: FutureWarning: Method .as_matrix will be removed in a future version. Use .values instead.\n",
      "  key_pts = self.key_pts_frame.iloc[idx, 1:].as_matrix()\n",
      "/home/workspace/data_load.py:39: FutureWarning: Method .as_matrix will be removed in a future version. Use .values instead.\n",
      "  key_pts = self.key_pts_frame.iloc[idx, 1:].as_matrix()\n",
      "/home/workspace/data_load.py:39: FutureWarning: Method .as_matrix will be removed in a future version. Use .values instead.\n",
      "  key_pts = self.key_pts_frame.iloc[idx, 1:].as_matrix()\n",
      "/home/workspace/data_load.py:39: FutureWarning: Method .as_matrix will be removed in a future version. Use .values instead.\n",
      "  key_pts = self.key_pts_frame.iloc[idx, 1:].as_matrix()\n"
     ]
    },
    {
     "name": "stdout",
     "output_type": "stream",
     "text": [
      "Epoch: 26, Batch: 10, Avg. Loss: 0.04113332778215408\n",
      "Epoch: 26, Batch: 20, Avg. Loss: 0.049920056387782095\n",
      "Epoch: 26, Batch: 30, Avg. Loss: 0.030851826816797257\n",
      "Epoch: 26, Batch: 40, Avg. Loss: 0.04584593418985605\n",
      "Epoch: 26, Batch: 50, Avg. Loss: 0.04025320503860712\n",
      "Epoch: 26, Batch: 60, Avg. Loss: 0.03796237912029028\n",
      "Epoch: 26, Batch: 70, Avg. Loss: 0.0428165428340435\n",
      "Epoch: 26, Batch: 80, Avg. Loss: 0.045088728331029414\n",
      "Epoch: 26, Batch: 90, Avg. Loss: 0.05642999596893787\n",
      "Epoch: 26, Batch: 100, Avg. Loss: 0.043597721029073\n",
      "Epoch: 26, Batch: 110, Avg. Loss: 0.041310885548591615\n",
      "Epoch: 26, Batch: 120, Avg. Loss: 0.03197112195193767\n",
      "Epoch: 26, Batch: 130, Avg. Loss: 0.060766300186514854\n",
      "Epoch: 26, Batch: 140, Avg. Loss: 0.036349520087242126\n",
      "Epoch: 26, Batch: 150, Avg. Loss: 0.050147329829633235\n",
      "Epoch: 26, Batch: 160, Avg. Loss: 0.046494861505925654\n",
      "Epoch: 26, Batch: 170, Avg. Loss: 0.055328970588743684\n",
      "Epoch: 26, Batch: 180, Avg. Loss: 0.03236075472086668\n",
      "Epoch: 26, Batch: 190, Avg. Loss: 0.04039153810590505\n",
      "Epoch: 26, Batch: 200, Avg. Loss: 0.03380109276622534\n",
      "Epoch: 26, Batch: 210, Avg. Loss: 0.04724484272301197\n",
      "Epoch: 26, Batch: 220, Avg. Loss: 0.038623934425413606\n",
      "Epoch: 26, Batch: 230, Avg. Loss: 0.03860313799232244\n",
      "Epoch: 26, Batch: 240, Avg. Loss: 0.05181108396500349\n",
      "Epoch: 26, Batch: 250, Avg. Loss: 0.056710929796099666\n",
      "Epoch: 26, Batch: 260, Avg. Loss: 0.1177130589261651\n",
      "Epoch: 26, Batch: 270, Avg. Loss: 0.036584644205868246\n",
      "Epoch: 26, Batch: 280, Avg. Loss: 0.2134167905896902\n",
      "Epoch: 26, Batch: 290, Avg. Loss: 0.06471634823828935\n",
      "Epoch: 26, Batch: 300, Avg. Loss: 0.03573087435215712\n",
      "Epoch: 26, Batch: 310, Avg. Loss: 0.0365938464179635\n",
      "Epoch: 26, Batch: 320, Avg. Loss: 0.03804112654179335\n",
      "Epoch: 26, Batch: 330, Avg. Loss: 0.03894424000754952\n",
      "Epoch: 26, Batch: 340, Avg. Loss: 0.04518886860460043\n"
     ]
    },
    {
     "name": "stderr",
     "output_type": "stream",
     "text": [
      "/home/workspace/data_load.py:39: FutureWarning: Method .as_matrix will be removed in a future version. Use .values instead.\n",
      "  key_pts = self.key_pts_frame.iloc[idx, 1:].as_matrix()\n",
      "/home/workspace/data_load.py:39: FutureWarning: Method .as_matrix will be removed in a future version. Use .values instead.\n",
      "  key_pts = self.key_pts_frame.iloc[idx, 1:].as_matrix()\n",
      "/home/workspace/data_load.py:39: FutureWarning: Method .as_matrix will be removed in a future version. Use .values instead.\n",
      "  key_pts = self.key_pts_frame.iloc[idx, 1:].as_matrix()\n",
      "/home/workspace/data_load.py:39: FutureWarning: Method .as_matrix will be removed in a future version. Use .values instead.\n",
      "  key_pts = self.key_pts_frame.iloc[idx, 1:].as_matrix()\n"
     ]
    },
    {
     "name": "stdout",
     "output_type": "stream",
     "text": [
      "Epoch: 27, Batch: 10, Avg. Loss: 0.06211056690663099\n",
      "Epoch: 27, Batch: 20, Avg. Loss: 0.04512522388249636\n",
      "Epoch: 27, Batch: 30, Avg. Loss: 0.03971869722008705\n",
      "Epoch: 27, Batch: 40, Avg. Loss: 0.03446470387279987\n",
      "Epoch: 27, Batch: 50, Avg. Loss: 0.04107237532734871\n",
      "Epoch: 27, Batch: 60, Avg. Loss: 0.04436459019780159\n",
      "Epoch: 27, Batch: 70, Avg. Loss: 0.046118535287678245\n"
     ]
    }
   ],
   "source": [
    "# train your network\n",
    "n_epochs = 30 # start small, and increase when you've decided on your model structure and hyperparams\n",
    "\n",
    "# this is a Workspaces-specific context manager to keep the connection\n",
    "# alive while training your model, not part of pytorch\n",
    "with active_session():\n",
    "    train_net(n_epochs)"
   ]
  },
  {
   "cell_type": "markdown",
   "metadata": {},
   "source": [
    "## Test data\n",
    "\n",
    "See how your model performs on previously unseen, test data. We've already loaded and transformed this data, similar to the training data. Next, run your trained model on these images to see what kind of keypoints are produced. You should be able to see if your model is fitting each new face it sees, if the points are distributed randomly, or if the points have actually overfitted the training data and do not generalize."
   ]
  },
  {
   "cell_type": "code",
   "execution_count": null,
   "metadata": {},
   "outputs": [],
   "source": [
    "# get a sample of test data again\n",
    "test_images, test_outputs, gt_pts = net_sample_output()\n",
    "\n",
    "print(test_images.data.size())\n",
    "print(test_outputs.data.size())\n",
    "print(gt_pts.size())"
   ]
  },
  {
   "cell_type": "code",
   "execution_count": null,
   "metadata": {},
   "outputs": [],
   "source": [
    "## TODO: visualize your test output\n",
    "# you can use the same function as before, by un-commenting the line below:\n",
    "\n",
    "visualize_output(test_images, test_outputs, gt_pts)\n"
   ]
  },
  {
   "cell_type": "markdown",
   "metadata": {},
   "source": [
    "Once you've found a good model (or two), save your model so you can load it and use it later!\n",
    "\n",
    "Save your models but please **delete any checkpoints and saved models before you submit your project** otherwise your workspace may be too large to submit."
   ]
  },
  {
   "cell_type": "code",
   "execution_count": null,
   "metadata": {},
   "outputs": [],
   "source": [
    "## TODO: change the name to something uniqe for each new model\n",
    "model_dir = 'saved_models/'\n",
    "model_name = 'keypoints_model_1.pt'\n",
    "\n",
    "# after training, save your model parameters in the dir 'saved_models'\n",
    "torch.save(net.state_dict(), model_dir+model_name)"
   ]
  },
  {
   "cell_type": "markdown",
   "metadata": {},
   "source": [
    "After you've trained a well-performing model, answer the following questions so that we have some insight into your training and architecture selection process. Answering all questions is required to pass this project."
   ]
  },
  {
   "cell_type": "markdown",
   "metadata": {},
   "source": [
    "### Question 1: What optimization and loss functions did you choose and why?\n"
   ]
  },
  {
   "cell_type": "markdown",
   "metadata": {},
   "source": [
    "**Answer**: write your answer here (double click to edit this cell)"
   ]
  },
  {
   "cell_type": "markdown",
   "metadata": {},
   "source": [
    "### Question 2: What kind of network architecture did you start with and how did it change as you tried different architectures? Did you decide to add more convolutional layers or any layers to avoid overfitting the data?"
   ]
  },
  {
   "cell_type": "markdown",
   "metadata": {},
   "source": [
    "**Answer**: write your answer here"
   ]
  },
  {
   "cell_type": "markdown",
   "metadata": {},
   "source": [
    "### Question 3: How did you decide on the number of epochs and batch_size to train your model?"
   ]
  },
  {
   "cell_type": "markdown",
   "metadata": {},
   "source": [
    "**Answer**: write your answer here"
   ]
  },
  {
   "cell_type": "markdown",
   "metadata": {},
   "source": [
    "## Feature Visualization\n",
    "\n",
    "Sometimes, neural networks are thought of as a black box, given some input, they learn to produce some output. CNN's are actually learning to recognize a variety of spatial patterns and you can visualize what each convolutional layer has been trained to recognize by looking at the weights that make up each convolutional kernel and applying those one at a time to a sample image. This technique is called feature visualization and it's useful for understanding the inner workings of a CNN."
   ]
  },
  {
   "cell_type": "markdown",
   "metadata": {},
   "source": [
    "In the cell below, you can see how to extract a single filter (by index) from your first convolutional layer. The filter should appear as a grayscale grid."
   ]
  },
  {
   "cell_type": "code",
   "execution_count": null,
   "metadata": {},
   "outputs": [],
   "source": [
    "# Get the weights in the first conv layer, \"conv1\"\n",
    "# if necessary, change this to reflect the name of your first conv layer\n",
    "weights1 = net.conv1.weight.data\n",
    "\n",
    "w = weights1.numpy()\n",
    "\n",
    "filter_index = 0\n",
    "\n",
    "print(w[filter_index][0])\n",
    "print(w[filter_index][0].shape)\n",
    "\n",
    "# display the filter weights\n",
    "plt.imshow(w[filter_index][0], cmap='gray')\n"
   ]
  },
  {
   "cell_type": "markdown",
   "metadata": {},
   "source": [
    "## Feature maps\n",
    "\n",
    "Each CNN has at least one convolutional layer that is composed of stacked filters (also known as convolutional kernels). As a CNN trains, it learns what weights to include in it's convolutional kernels and when these kernels are applied to some input image, they produce a set of **feature maps**. So, feature maps are just sets of filtered images; they are the images produced by applying a convolutional kernel to an input image. These maps show us the features that the different layers of the neural network learn to extract. For example, you might imagine a convolutional kernel that detects the vertical edges of a face or another one that detects the corners of eyes. You can see what kind of features each of these kernels detects by applying them to an image. One such example is shown below; from the way it brings out the lines in an the image, you might characterize this as an edge detection filter.\n",
    "\n",
    "<img src='images/feature_map_ex.png' width=50% height=50%/>\n",
    "\n",
    "\n",
    "Next, choose a test image and filter it with one of the convolutional kernels in your trained CNN; look at the filtered output to get an idea what that particular kernel detects.\n",
    "\n",
    "### TODO: Filter an image to see the effect of a convolutional kernel\n",
    "---"
   ]
  },
  {
   "cell_type": "code",
   "execution_count": null,
   "metadata": {},
   "outputs": [],
   "source": [
    "##TODO: load in and display any image from the transformed test dataset\n",
    "\n",
    "## TODO: Using cv's filter2D function,\n",
    "## apply a specific set of filter weights (like the one displayed above) to the test image\n"
   ]
  },
  {
   "cell_type": "markdown",
   "metadata": {},
   "source": [
    "### Question 4: Choose one filter from your trained CNN and apply it to a test image; what purpose do you think it plays? What kind of feature do you think it detects?\n"
   ]
  },
  {
   "cell_type": "markdown",
   "metadata": {},
   "source": [
    "**Answer**: (does it detect vertical lines or does it blur out noise, etc.) write your answer here"
   ]
  },
  {
   "cell_type": "markdown",
   "metadata": {},
   "source": [
    "---\n",
    "## Moving on!\n",
    "\n",
    "Now that you've defined and trained your model (and saved the best model), you are ready to move on to the last notebook, which combines a face detector with your saved model to create a facial keypoint detection system that can predict the keypoints on *any* face in an image!"
   ]
  }
 ],
 "metadata": {
  "kernelspec": {
   "display_name": "Python 3",
   "language": "python",
   "name": "python3"
  },
  "language_info": {
   "codemirror_mode": {
    "name": "ipython",
    "version": 3
   },
   "file_extension": ".py",
   "mimetype": "text/x-python",
   "name": "python",
   "nbconvert_exporter": "python",
   "pygments_lexer": "ipython3",
   "version": "3.6.3"
  }
 },
 "nbformat": 4,
 "nbformat_minor": 2
}
